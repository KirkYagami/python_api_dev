{
 "cells": [
  {
   "cell_type": "code",
   "execution_count": null,
   "id": "bdb2930f",
   "metadata": {},
   "outputs": [],
   "source": []
  },
  {
   "cell_type": "markdown",
   "id": "a319ec51",
   "metadata": {},
   "source": [
    "## What is SQLite\n",
    "\n",
    "SQLite is a **software library** that provides a **relational database management system**. The “lite” in SQLite means lightweight nature regarding setup, database administration, and required resources.\n",
    "\n",
    "SQLite has the following notable features:\n",
    "\n",
    "- Self-contained\n",
    "- Serverless\n",
    "- Zero-configuration\n",
    "- Transactional\n"
   ]
  },
  {
   "cell_type": "code",
   "execution_count": 1,
   "id": "b1d290c5",
   "metadata": {},
   "outputs": [],
   "source": [
    "import sqlite3"
   ]
  },
  {
   "cell_type": "code",
   "execution_count": 2,
   "metadata": {},
   "outputs": [],
   "source": [
    "conn = sqlite3.connect(':memory:')"
   ]
  },
  {
   "cell_type": "code",
   "execution_count": 3,
   "metadata": {},
   "outputs": [],
   "source": [
    "cur = conn.cursor()"
   ]
  },
  {
   "cell_type": "code",
   "execution_count": 4,
   "metadata": {},
   "outputs": [],
   "source": [
    "cur.execute(\"\"\"CREATE TABLE IF NOT EXISTS users(\n",
    "   userid INT PRIMARY KEY,\n",
    "   fname TEXT,\n",
    "   lname TEXT,\n",
    "   gender TEXT);\n",
    "\"\"\")\n",
    "conn.commit()"
   ]
  },
  {
   "cell_type": "code",
   "execution_count": 5,
   "id": "d693abad",
   "metadata": {},
   "outputs": [],
   "source": [
    "cur.execute(\"\"\"INSERT INTO users(userid, fname, lname, gender) \n",
    "   VALUES('00001', 'Nik', 'Piepenbreier', 'male');\"\"\")\n",
    "\n",
    "conn.commit()"
   ]
  },
  {
   "cell_type": "code",
   "execution_count": 6,
   "id": "5d568f06",
   "metadata": {},
   "outputs": [
    {
     "data": {
      "text/plain": [
       "<sqlite3.Cursor at 0x1d667336dc0>"
      ]
     },
     "execution_count": 6,
     "metadata": {},
     "output_type": "execute_result"
    }
   ],
   "source": [
    "cur.execute(\"SELECT * FROM users;\")"
   ]
  },
  {
   "cell_type": "code",
   "execution_count": 7,
   "id": "34704c0d",
   "metadata": {},
   "outputs": [],
   "source": [
    "one_result = cur.fetchone()"
   ]
  },
  {
   "cell_type": "code",
   "execution_count": 8,
   "id": "d7a3b9d5",
   "metadata": {},
   "outputs": [
    {
     "name": "stdout",
     "output_type": "stream",
     "text": [
      "(1, 'Nik', 'Piepenbreier', 'male')\n"
     ]
    }
   ],
   "source": [
    "print(one_result)"
   ]
  },
  {
   "cell_type": "markdown",
   "id": "d9509412",
   "metadata": {},
   "source": [
    "-----"
   ]
  },
  {
   "cell_type": "code",
   "execution_count": 9,
   "id": "1cdfde73",
   "metadata": {},
   "outputs": [],
   "source": [
    "\n",
    "import sqlite3\n",
    "conn = sqlite3.connect('users.db')"
   ]
  },
  {
   "cell_type": "code",
   "execution_count": 10,
   "id": "5abe3ea8",
   "metadata": {},
   "outputs": [
    {
     "name": "stdout",
     "output_type": "stream",
     "text": [
      "(1, 'Nik', 'Piepenbreier', 'male')\n"
     ]
    }
   ],
   "source": [
    "cur = conn.cursor()\n",
    "\n",
    "cur.execute(\"\"\"CREATE TABLE IF NOT EXISTS users(\n",
    "   userid INT PRIMARY KEY,\n",
    "   fname TEXT,\n",
    "   lname TEXT,\n",
    "   gender TEXT);\n",
    "\"\"\")\n",
    "conn.commit()\n",
    "\n",
    "\n",
    "cur.execute(\"\"\"INSERT INTO users(userid, fname, lname, gender) \n",
    "   VALUES('00001', 'Nik', 'Piepenbreier', 'male');\"\"\")\n",
    "\n",
    "conn.commit()\n",
    "\n",
    "cur.execute(\"SELECT * FROM users;\")\n",
    "one_result = cur.fetchone()\n",
    "print(one_result)"
   ]
  },
  {
   "cell_type": "code",
   "execution_count": null,
   "id": "aa18b863",
   "metadata": {},
   "outputs": [],
   "source": [
    "# task: change the below data to employees data \n",
    "serialized_items = [\n",
    "    (1, [0.1, 0.1, 0.1, 0.1]),\n",
    "    (2, [0.2, 0.2, 0.2, 0.2]),\n",
    "    (3, [0.3, 0.3, 0.3, 0.3]),\n",
    "    (4, [0.4, 0.4, 0.4, 0.4]),\n",
    "    (5, [0.5, 0.5, 0.5, 0.5]),\n",
    "]\n",
    "\n",
    "for item_id, serialized_vector in serialized_items:\n",
    "    conn.execute(\n",
    "        f\"\"\"\n",
    "            INSERT INTO vec_data (rowid, embedding)\n",
    "            VALUES(?, ?)\n",
    "        \"\"\",\n",
    "        [item_id, serialized_vector]\n",
    "    )"
   ]
  }
 ],
 "metadata": {
  "kernelspec": {
   "display_name": "Python 3",
   "language": "python",
   "name": "python3"
  },
  "language_info": {
   "codemirror_mode": {
    "name": "ipython",
    "version": 3
   },
   "file_extension": ".py",
   "mimetype": "text/x-python",
   "name": "python",
   "nbconvert_exporter": "python",
   "pygments_lexer": "ipython3",
   "version": "3.11.11"
  }
 },
 "nbformat": 4,
 "nbformat_minor": 5
}
