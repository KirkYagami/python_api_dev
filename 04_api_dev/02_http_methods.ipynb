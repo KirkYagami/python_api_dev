{
 "cells": [
  {
   "cell_type": "markdown",
   "id": "5de2c38c",
   "metadata": {},
   "source": [
    "## HTTP Methods\n",
    "\n",
    "HTTP defines several methods (also called \"verbs\") that indicate the desired action to be performed on a resource. These align with CRUD operations (Create, Read, Update, Delete).\n"
   ]
  },
  {
   "cell_type": "markdown",
   "id": "0b077d68",
   "metadata": {},
   "source": [
    "### Core HTTP Methods\n",
    "\n",
    "1. **GET**: Retrieve data from a specified resource\n",
    "   - Safe: Doesn't change server state\n",
    "   - Idempotent: Multiple identical requests have same effect as a single request\n",
    "   - Example: `GET /api/users/123` to fetch user details. In Python:"
   ]
  },
  {
   "cell_type": "code",
   "execution_count": null,
   "id": "0a05dfa1",
   "metadata": {},
   "outputs": [
    {
     "name": "stdout",
     "output_type": "stream",
     "text": [
      "{'id': 1, 'name': 'Leanne Graham', 'username': 'Bret', 'email': 'Sincere@april.biz', 'address': {'street': 'Kulas Light', 'suite': 'Apt. 556', 'city': 'Gwenborough', 'zipcode': '92998-3874', 'geo': {'lat': '-37.3159', 'lng': '81.1496'}}, 'phone': '1-770-736-8031 x56442', 'website': 'hildegard.org', 'company': {'name': 'Romaguera-Crona', 'catchPhrase': 'Multi-layered client-server neural-net', 'bs': 'harness real-time e-markets'}}\n"
     ]
    }
   ],
   "source": [
    "import requests\n",
    "response = requests.get('https://jsonplaceholder.typicode.com/users/1')\n",
    "\n",
    "try:\n",
    "    response.raise_for_status()\n",
    "    print(response.json())\n",
    "except:\n",
    "    print(\"Something went wrong\")\n",
    "\n"
   ]
  },
  {
   "cell_type": "markdown",
   "id": "353d3d1e",
   "metadata": {},
   "source": [
    "2. **POST**: Submit data to create a new resource\n",
    "   - Not safe: Changes server state\n",
    "   - Not idempotent: Multiple identical requests create multiple resources\n",
    "   - Example: `POST /api/users` with user data in request body. In Python:"
   ]
  },
  {
   "cell_type": "code",
   "execution_count": 4,
   "id": "39ab64a1",
   "metadata": {},
   "outputs": [
    {
     "name": "stdout",
     "output_type": "stream",
     "text": [
      "{'name': 'John Doe', 'email': 'john@example.com', 'id': 11}\n"
     ]
    }
   ],
   "source": [
    "import requests\n",
    "data = {'name': 'John Doe', 'email': 'john@example.com'}\n",
    "response = requests.post('https://jsonplaceholder.typicode.com/users', json=data)\n",
    "print(response.json())\n",
    "\n"
   ]
  },
  {
   "cell_type": "markdown",
   "id": "ff9cbbaa",
   "metadata": {},
   "source": [
    "3. **PUT**: Update an existing resource (or create if it doesn't exist)\n",
    "   - Not safe: Changes server state\n",
    "   - Idempotent: Multiple identical requests have same effect as a single request\n",
    "   - Example: `PUT /api/users/123` with updated user data. In Python:"
   ]
  },
  {
   "cell_type": "code",
   "execution_count": 5,
   "id": "e8029e46",
   "metadata": {},
   "outputs": [
    {
     "name": "stdout",
     "output_type": "stream",
     "text": [
      "{'name': 'Updated Name', 'id': 1}\n"
     ]
    }
   ],
   "source": [
    "import requests\n",
    "data = {'name': 'Updated Name'}\n",
    "response = requests.put('https://jsonplaceholder.typicode.com/users/1', json=data)\n",
    "print(response.json())"
   ]
  },
  {
   "cell_type": "markdown",
   "id": "514e0f59",
   "metadata": {},
   "source": [
    "\n",
    "4. **DELETE**: Remove a specified resource\n",
    "   - Not safe: Changes server state\n",
    "   - Idempotent: Multiple identical requests have same effect as a single request\n",
    "   - Example: `DELETE /api/users/123`. In Python:"
   ]
  },
  {
   "cell_type": "code",
   "execution_count": 6,
   "id": "3db82d34",
   "metadata": {},
   "outputs": [
    {
     "name": "stdout",
     "output_type": "stream",
     "text": [
      "200\n"
     ]
    }
   ],
   "source": [
    "import requests\n",
    "response = requests.delete('https://jsonplaceholder.typicode.com/users/1')\n",
    "print(response.status_code)  # Should be 200 or 204"
   ]
  },
  {
   "cell_type": "markdown",
   "id": "3f1a5d3a",
   "metadata": {},
   "source": [
    "### Additional HTTP Methods\n",
    "\n",
    "5. **PATCH**: Partially update a resource\n",
    "   - Not safe: Changes server state\n",
    "   - Not idempotent: Effects may vary\n",
    "   - Example: `PATCH /api/users/123` with partial data. In Python:"
   ]
  },
  {
   "cell_type": "code",
   "execution_count": 7,
   "id": "7bb47339",
   "metadata": {},
   "outputs": [
    {
     "name": "stdout",
     "output_type": "stream",
     "text": [
      "{'id': 1, 'name': 'Leanne Graham', 'username': 'Bret', 'email': 'new@email.com', 'address': {'street': 'Kulas Light', 'suite': 'Apt. 556', 'city': 'Gwenborough', 'zipcode': '92998-3874', 'geo': {'lat': '-37.3159', 'lng': '81.1496'}}, 'phone': '1-770-736-8031 x56442', 'website': 'hildegard.org', 'company': {'name': 'Romaguera-Crona', 'catchPhrase': 'Multi-layered client-server neural-net', 'bs': 'harness real-time e-markets'}}\n"
     ]
    }
   ],
   "source": [
    "import requests\n",
    "data = {'email': 'new@email.com'}\n",
    "response = requests.patch('https://jsonplaceholder.typicode.com/users/1', json=data)\n",
    "print(response.json())"
   ]
  },
  {
   "cell_type": "markdown",
   "id": "56a15d77",
   "metadata": {},
   "source": [
    "\n",
    "1. **1xx (Informational)**: Request received, continuing process\n",
    "   - 100: Continue\n",
    "   - 101: Switching Protocols\n",
    "\n",
    "2. **2xx (Success)**: Request successfully received, understood, and accepted\n",
    "   - 200: OK - Standard success response (e.g., successful GET)\n",
    "   - 201: Created - Resource created successfully (e.g., after POST)\n",
    "   - 202: Accepted - Request accepted but processing not complete (async operations)\n",
    "   - 204: No Content - Success but nothing to return (often used for DELETE or updates without data)\n",
    "\n",
    "3. **3xx (Redirection)**: Further action needed to complete request\n",
    "   - 301: Moved Permanently (permanent redirect)\n",
    "   - 302: Found (Temporary Redirect)\n",
    "   - 304: Not Modified (used with conditional GET requests for caching)\n",
    "\n",
    "4. **4xx (Client Error)**: Error caused by the client\n",
    "   - 400: Bad Request - Generic client error (invalid syntax)\n",
    "   - 401: Unauthorized - Authentication required or failed\n",
    "   - 403: Forbidden - Authentication succeeded but user lacks permission\n",
    "   - 404: Not Found - Resource doesn't exist\n",
    "   - 405: Method Not Allowed - HTTP method not supported for this resource\n",
    "   - 409: Conflict - Request conflicts with current state (e.g., duplicate resource)\n",
    "   - 422: Unprocessable Entity - Request understood but semantically incorrect (validation errors)\n",
    "\n",
    "5. **5xx (Server Error)**: Error on the server side\n",
    "   - 500: Internal Server Error - Generic server error (catch-all for unexpected issues)\n",
    "   - 502: Bad Gateway - Server acting as gateway received invalid response\n",
    "   - 503: Service Unavailable - Server temporarily unable to handle request (e.g., maintenance)\n",
    "   - 504: Gateway Timeout - Gateway timeout waiting for response"
   ]
  },
  {
   "cell_type": "code",
   "execution_count": null,
   "id": "bd01f4d1",
   "metadata": {},
   "outputs": [],
   "source": []
  }
 ],
 "metadata": {
  "kernelspec": {
   "display_name": "Python 3",
   "language": "python",
   "name": "python3"
  },
  "language_info": {
   "codemirror_mode": {
    "name": "ipython",
    "version": 3
   },
   "file_extension": ".py",
   "mimetype": "text/x-python",
   "name": "python",
   "nbconvert_exporter": "python",
   "pygments_lexer": "ipython3",
   "version": "3.11.11"
  }
 },
 "nbformat": 4,
 "nbformat_minor": 5
}
