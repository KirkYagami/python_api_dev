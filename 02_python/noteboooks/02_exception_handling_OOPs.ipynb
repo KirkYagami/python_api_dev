{
 "cells": [
  {
   "cell_type": "code",
   "execution_count": null,
   "id": "39cd3b0a",
   "metadata": {},
   "outputs": [
    {
     "name": "stdout",
     "output_type": "stream",
     "text": [
      "Something bad happened!\n",
      "Some..\n"
     ]
    }
   ],
   "source": [
    "num = 90\n",
    "d = '8'\n",
    "\n",
    "try: \n",
    "    # d = input(\"Enter a number\")\n",
    "    print(num/d)\n",
    "except :\n",
    "    print(\"Something bad happened!\")\n",
    "\n",
    "print(\"Some..\")\n",
    "\n",
    "\n",
    "\n"
   ]
  },
  {
   "cell_type": "markdown",
   "id": "bfd1d1e1",
   "metadata": {},
   "source": [
    "### What are Exceptions?\n",
    "\n",
    "**Exceptions** are events that occur during program execution that disrupt the normal flow of instructions. When Python encounters an error, it creates an exception object. If not handled properly, the program terminates abruptly.\n",
    "\n",
    "Common built-in exceptions include:\n",
    "\n",
    "\n",
    "\n",
    "- `ZeroDivisionError`: Occurs when dividing by zero\n",
    "- `TypeError`: Occurs when an operation is performed on an inappropriate data type\n",
    "- `ValueError`: Occurs when a function receives an argument of the correct type but inappropriate value\n",
    "- `NameError`: Occurs when a local or global name is not found\n",
    "- `IndexError`: Occurs when trying to access an index that is out of range\n",
    "- `KeyError`: Occurs when a dictionary key is not found\n",
    "- `FileNotFoundError`: Occurs when trying to open a file that doesn't exist\n",
    "- `ImportError`: Occurs when an import statement fails\n",
    "- `AttributeError`: Occurs when an attribute reference or assignment fails\n"
   ]
  },
  {
   "cell_type": "code",
   "execution_count": 70,
   "id": "d25323ad",
   "metadata": {},
   "outputs": [
    {
     "ename": "AttributeError",
     "evalue": "'str' object has no attribute 'upper_case'",
     "output_type": "error",
     "traceback": [
      "\u001b[31m---------------------------------------------------------------------------\u001b[39m",
      "\u001b[31mAttributeError\u001b[39m                            Traceback (most recent call last)",
      "\u001b[36mCell\u001b[39m\u001b[36m \u001b[39m\u001b[32mIn[70]\u001b[39m\u001b[32m, line 1\u001b[39m\n\u001b[32m----> \u001b[39m\u001b[32m1\u001b[39m \u001b[33;43m'\u001b[39;49m\u001b[33;43mjj\u001b[39;49m\u001b[33;43m'\u001b[39;49m\u001b[43m.\u001b[49m\u001b[43mupper_case\u001b[49m()\n",
      "\u001b[31mAttributeError\u001b[39m: 'str' object has no attribute 'upper_case'"
     ]
    }
   ],
   "source": [
    "'jj'.upper_case()"
   ]
  },
  {
   "cell_type": "markdown",
   "id": "708499ed",
   "metadata": {},
   "source": [
    "\n",
    "\n",
    "### Why Exception Handling?\n",
    "\n",
    "Exception handling allows you to:\n",
    "\n",
    "- **Gracefully manage errors** without crashing your program\n",
    "- **Separate error-handling code** from regular code\n",
    "- **Provide meaningful feedback** to users\n",
    "- **Clean up resources** (files, network connections) even when errors occur\n",
    "- **Make code more robust and maintainable**\n"
   ]
  },
  {
   "cell_type": "code",
   "execution_count": 71,
   "id": "6e5860be",
   "metadata": {},
   "outputs": [
    {
     "ename": "ZeroDivisionError",
     "evalue": "division by zero",
     "output_type": "error",
     "traceback": [
      "\u001b[31m---------------------------------------------------------------------------\u001b[39m",
      "\u001b[31mZeroDivisionError\u001b[39m                         Traceback (most recent call last)",
      "\u001b[36mCell\u001b[39m\u001b[36m \u001b[39m\u001b[32mIn[71]\u001b[39m\u001b[32m, line 2\u001b[39m\n\u001b[32m      1\u001b[39m \u001b[38;5;66;03m# ZeroDivisionError - Division by zero\u001b[39;00m\n\u001b[32m----> \u001b[39m\u001b[32m2\u001b[39m result = \u001b[32;43m10\u001b[39;49m\u001b[43m \u001b[49m\u001b[43m/\u001b[49m\u001b[43m \u001b[49m\u001b[32;43m0\u001b[39;49m\n\u001b[32m      4\u001b[39m \u001b[38;5;66;03m# TypeError - Wrong type operation\u001b[39;00m\n\u001b[32m      5\u001b[39m result = \u001b[33m\"\u001b[39m\u001b[33mhello\u001b[39m\u001b[33m\"\u001b[39m + \u001b[32m5\u001b[39m\n",
      "\u001b[31mZeroDivisionError\u001b[39m: division by zero"
     ]
    }
   ],
   "source": [
    "# ZeroDivisionError - Division by zero\n",
    "result = 10 / 0\n",
    "\n",
    "# TypeError - Wrong type operation\n",
    "result = \"hello\" + 5\n",
    "\n",
    "# ValueError - Right type, wrong value\n",
    "num = int(\"abc\")\n",
    "\n",
    "# KeyError - Key doesn't exist in dictionary\n",
    "my_dict = {'a': 1}\n",
    "value = my_dict['b']\n",
    "\n",
    "# IndexError - Index out of range\n",
    "my_list = [1, 2, 3]\n",
    "item = my_list[10]\n",
    "\n",
    "# FileNotFoundError - File doesn't exist\n",
    "file = open('nonexistent.txt', 'r')\n",
    "\n",
    "# AttributeError - Attribute doesn't exist\n",
    "result = \"hello\".nonexistent_method()"
   ]
  },
  {
   "cell_type": "markdown",
   "id": "518ce0e1",
   "metadata": {},
   "source": [
    "\n",
    "## 2. Understanding try-except-else-finally Blocks\n",
    "\n",
    "### Basic try-except Structure\n",
    "\n",
    "The `try-except` block is the fundamental mechanism for catching and handling exceptions.\n",
    "\n",
    "**Syntax:**\n",
    "\n",
    "```python\n",
    "try:\n",
    "    # Code that might raise an exception\n",
    "    risky_operation()\n",
    "except ExceptionType:\n",
    "    # Code to handle the exception\n",
    "    handle_error()\n",
    "```\n"
   ]
  },
  {
   "cell_type": "markdown",
   "id": "a1aa3ac0",
   "metadata": {},
   "source": [
    "\n",
    "### Examples: Basic Exception Handling\n",
    "\n",
    "**Example 1: Handling Division by Zero**"
   ]
  },
  {
   "cell_type": "code",
   "execution_count": 72,
   "id": "d103417c",
   "metadata": {},
   "outputs": [
    {
     "ename": "ZeroDivisionError",
     "evalue": "division by zero",
     "output_type": "error",
     "traceback": [
      "\u001b[31m---------------------------------------------------------------------------\u001b[39m",
      "\u001b[31mZeroDivisionError\u001b[39m                         Traceback (most recent call last)",
      "\u001b[36mCell\u001b[39m\u001b[36m \u001b[39m\u001b[32mIn[72]\u001b[39m\u001b[32m, line 4\u001b[39m\n\u001b[32m      1\u001b[39m \u001b[38;5;28;01mdef\u001b[39;00m\u001b[38;5;250m \u001b[39m\u001b[34mdivide_unsafe\u001b[39m(a, b):\n\u001b[32m      2\u001b[39m     \u001b[38;5;28;01mreturn\u001b[39;00m a / b\n\u001b[32m----> \u001b[39m\u001b[32m4\u001b[39m result = \u001b[43mdivide_unsafe\u001b[49m\u001b[43m(\u001b[49m\u001b[32;43m10\u001b[39;49m\u001b[43m,\u001b[49m\u001b[43m \u001b[49m\u001b[32;43m0\u001b[39;49m\u001b[43m)\u001b[49m\n",
      "\u001b[36mCell\u001b[39m\u001b[36m \u001b[39m\u001b[32mIn[72]\u001b[39m\u001b[32m, line 2\u001b[39m, in \u001b[36mdivide_unsafe\u001b[39m\u001b[34m(a, b)\u001b[39m\n\u001b[32m      1\u001b[39m \u001b[38;5;28;01mdef\u001b[39;00m\u001b[38;5;250m \u001b[39m\u001b[34mdivide_unsafe\u001b[39m(a, b):\n\u001b[32m----> \u001b[39m\u001b[32m2\u001b[39m     \u001b[38;5;28;01mreturn\u001b[39;00m \u001b[43ma\u001b[49m\u001b[43m \u001b[49m\u001b[43m/\u001b[49m\u001b[43m \u001b[49m\u001b[43mb\u001b[49m\n",
      "\u001b[31mZeroDivisionError\u001b[39m: division by zero"
     ]
    }
   ],
   "source": [
    "def divide_unsafe(a, b):\n",
    "    return a / b\n",
    "\n",
    "result = divide_unsafe(10, 0)\n"
   ]
  },
  {
   "cell_type": "code",
   "execution_count": null,
   "id": "dfa3769c",
   "metadata": {},
   "outputs": [
    {
     "name": "stdout",
     "output_type": "stream",
     "text": [
      "Please use appropriate type\n"
     ]
    }
   ],
   "source": [
    "def divide_safe(a, b):\n",
    "    result = None\n",
    "    try:\n",
    "        result = a/b\n",
    "    except ZeroDivisionError:\n",
    "        print(\"Denominator cannot be zero\")\n",
    "    except TypeError:\n",
    "        print(\"Please use appropriate type\")\n",
    "    return result\n",
    "\n",
    "divide_safe(10,'2')"
   ]
  },
  {
   "cell_type": "markdown",
   "id": "d1d0e5be",
   "metadata": {},
   "source": [
    "**Example 2: Handling User Input**"
   ]
  },
  {
   "cell_type": "code",
   "execution_count": 80,
   "id": "bcb3071b",
   "metadata": {},
   "outputs": [
    {
     "name": "stdout",
     "output_type": "stream",
     "text": [
      "That's not a valid integer!\n"
     ]
    }
   ],
   "source": [
    "def get_integer_input():\n",
    "    try:\n",
    "        user_input = int(input(\"Enter a number: \"))\n",
    "        return user_input\n",
    "    except ValueError:\n",
    "        print(\"That's not a valid integer!\")\n",
    "        return None\n",
    "num = get_integer_input()\n",
    "if num is not None:\n",
    "    print(f\"You entered: {num}\")"
   ]
  },
  {
   "cell_type": "code",
   "execution_count": 81,
   "id": "2e889888",
   "metadata": {},
   "outputs": [
    {
     "name": "stdout",
     "output_type": "stream",
     "text": [
      "50.0\n",
      "Error: Index is out of range!\n",
      "None\n",
      "Error: Value at index is zero, cannot divide!\n",
      "None\n",
      "Error: Invalid data type!\n",
      "None\n"
     ]
    }
   ],
   "source": [
    "def process_data(data_list, index):\n",
    "    try:\n",
    "        # Multiple operations that could fail\n",
    "        value = data_list[index]\n",
    "        result = 100 / value\n",
    "        return result\n",
    "    except IndexError:\n",
    "        print(\"Error: Index is out of range!\")\n",
    "        return None\n",
    "    except ZeroDivisionError:\n",
    "        print(\"Error: Value at index is zero, cannot divide!\")\n",
    "        return None\n",
    "    except TypeError:\n",
    "        print(\"Error: Invalid data type!\")\n",
    "        return None\n",
    "\n",
    "# Testing different scenarios\n",
    "print(process_data([1, 2, 3], 1))     # Works: 100/2 = 50.0\n",
    "print(process_data([1, 2, 3], 10))    # IndexError\n",
    "print(process_data([1, 0, 3], 1))     # ZeroDivisionError\n",
    "print(process_data(\"not a list\", 0))  # TypeError"
   ]
  },
  {
   "cell_type": "markdown",
   "id": "6fa801cf",
   "metadata": {},
   "source": [
    "\n",
    "### Catching Multiple Exceptions Together\n",
    "\n",
    "When you want to handle multiple exceptions the same way, group them in a tuple.\n",
    "\n",
    "**Example 4: Grouping Exceptions**"
   ]
  },
  {
   "cell_type": "code",
   "execution_count": 82,
   "id": "d0be6940",
   "metadata": {},
   "outputs": [
    {
     "name": "stdout",
     "output_type": "stream",
     "text": [
      "6.0\n",
      "Calculation error occurred: ZeroDivisionError\n",
      "Error message: division by zero\n",
      "None\n",
      "Calculation error occurred: TypeError\n",
      "Error message: can only concatenate str (not \"int\") to str\n",
      "None\n"
     ]
    }
   ],
   "source": [
    "def safe_calculation(a, b, c):\n",
    "    try:\n",
    "        result = (a + b) / c\n",
    "        return result\n",
    "    except (TypeError, ValueError, ZeroDivisionError) as e:\n",
    "        print(f\"Calculation error occurred: {type(e).__name__}\")\n",
    "        print(f\"Error message: {e}\")\n",
    "        return None\n",
    "\n",
    "# Testing\n",
    "print(safe_calculation(10, 20, 5))    # Works: 6.0\n",
    "print(safe_calculation(10, 20, 0))    # ZeroDivisionError\n",
    "print(safe_calculation(\"10\", 20, 5))  # TypeError"
   ]
  },
  {
   "cell_type": "code",
   "execution_count": 84,
   "id": "c3b60dd3",
   "metadata": {},
   "outputs": [
    {
     "name": "stdout",
     "output_type": "stream",
     "text": [
      "6.0\n",
      "Calculation error occurred: ZeroDivisionError\n",
      "Error message: division by zero\n",
      "None\n",
      "Calculation error occurred: TypeError\n",
      "Error message: can only concatenate str (not \"int\") to str\n",
      "None\n"
     ]
    }
   ],
   "source": [
    "def safe_calculation(a, b, c):\n",
    "    try:\n",
    "        result = (a + b) / c\n",
    "        return result\n",
    "    except Exception as e:\n",
    "        print(f\"Calculation error occurred: {type(e).__name__}\")\n",
    "        print(f\"Error message: {e}\")\n",
    "        return None\n",
    "\n",
    "# Testing\n",
    "print(safe_calculation(10, 20, 5))    # Works: 6.0\n",
    "print(safe_calculation(10, 20, 0))    # ZeroDivisionError\n",
    "print(safe_calculation(\"10\", 20, 5))  # TypeError"
   ]
  },
  {
   "cell_type": "markdown",
   "id": "9f181ac3",
   "metadata": {},
   "source": [
    "\n",
    "### The `as` Keyword - Accessing Exception Object\n",
    "\n",
    "Use `as` to capture the exception object and access its details.\n",
    "\n",
    "\n",
    "In Python, **exceptions are objects**—instances of classes that inherit from the built-in `BaseException` class (most commonly from `Exception`). When an error occurs (like trying to open a file that doesn’t exist), Python **raises** an exception by creating an instance of a specific exception class (e.g., `FileNotFoundError`).\n",
    "```python\n",
    "except FileNotFoundError as e:\n",
    "```\n",
    "\n",
    "you're **catching** that exception object and assigning it to the variable `e`. This object contains useful information about what went wrong.\n"
   ]
  },
  {
   "cell_type": "code",
   "execution_count": 85,
   "id": "418fd482",
   "metadata": {},
   "outputs": [
    {
     "name": "stdout",
     "output_type": "stream",
     "text": [
      "Error Type: FileNotFoundError\n",
      "Error Message: [Errno 2] No such file or directory: 'nonexistent.txt'\n",
      "Error Args: (2, 'No such file or directory')\n"
     ]
    }
   ],
   "source": [
    "def detailed_error_handling(filename):\n",
    "    try:\n",
    "        with open(filename, 'r') as file:\n",
    "            content = file.read()\n",
    "            return content\n",
    "    except FileNotFoundError as e:\n",
    "        print(f\"Error Type: {type(e).__name__}\")\n",
    "        print(f\"Error Message: {e}\")\n",
    "        print(f\"Error Args: {e.args}\")\n",
    "        return None\n",
    "    except PermissionError as e:\n",
    "        print(f\"Permission denied: {e}\")\n",
    "        return None\n",
    "\n",
    "# Testing\n",
    "content = detailed_error_handling(\"nonexistent.txt\")"
   ]
  },
  {
   "cell_type": "markdown",
   "id": "6efe8cb2",
   "metadata": {},
   "source": [
    "### Bare except Clause (Not Recommended)\n",
    "\n",
    "A bare `except` catches ALL exceptions, including system exits and keyboard interrupts.\n",
    "\n",
    "**Example 6: Bare except (Use with Caution)**"
   ]
  },
  {
   "cell_type": "code",
   "execution_count": 91,
   "id": "68e8ec20",
   "metadata": {},
   "outputs": [
    {
     "name": "stdout",
     "output_type": "stream",
     "text": [
      "An error occurred: division by zero\n"
     ]
    }
   ],
   "source": [
    "# NOT RECOMMENDED - Too broad\n",
    "def risky_bare_except():\n",
    "    try:\n",
    "        # Some operation\n",
    "        value = 10 / 0\n",
    "    except:\n",
    "        print(\"Something went wrong!\")\n",
    "\n",
    "# BETTER - Catch Exception base class\n",
    "def better_broad_except():\n",
    "    try:\n",
    "        value = 10 / 0\n",
    "    except Exception as e:\n",
    "        print(f\"An error occurred: {e}\")\n",
    "        # This won't catch KeyboardInterrupt or SystemExit\n",
    "\n",
    "# Testing\n",
    "better_broad_except()"
   ]
  },
  {
   "cell_type": "markdown",
   "id": "702ca27e",
   "metadata": {},
   "source": [
    "\n",
    "### The else Clause\n",
    "\n",
    "The `else` block executes **only if no exception was raised** in the try block.\n",
    "\n",
    "**Example 7: Using else Clause**"
   ]
  },
  {
   "cell_type": "code",
   "execution_count": 93,
   "id": "52db5477",
   "metadata": {},
   "outputs": [
    {
     "name": "stdout",
     "output_type": "stream",
     "text": [
      "Division successful!\n",
      "5.0\n",
      "Cannot divide by zero!\n",
      "None\n"
     ]
    }
   ],
   "source": [
    "def divide_with_else(a, b):\n",
    "    try:\n",
    "        result = a / b\n",
    "    except ZeroDivisionError:\n",
    "        print(\"Cannot divide by zero!\")\n",
    "        return None\n",
    "    else:\n",
    "        # This runs ONLY if no exception occurred\n",
    "        print(\"Division successful!\")\n",
    "        return result\n",
    "\n",
    "# Testing\n",
    "print(divide_with_else(10, 2))  # Prints \"Division successful!\" then 5.0\n",
    "print(divide_with_else(10, 0))  # Prints \"Cannot divide by zero!\" then None"
   ]
  },
  {
   "cell_type": "markdown",
   "id": "f2541f28",
   "metadata": {},
   "source": [
    "### The finally Clause\n",
    "\n",
    "The `finally` block **always executes**, regardless of whether an exception occurred or not. It's perfect for cleanup operations.\n",
    "\n",
    "**Example 9: finally for Cleanup**"
   ]
  },
  {
   "cell_type": "code",
   "execution_count": 95,
   "id": "5f1bfb18",
   "metadata": {},
   "outputs": [
    {
     "name": "stdout",
     "output_type": "stream",
     "text": [
      "1. Trying to open file...\n",
      "3. File not found!\n",
      "5. Finally block - This ALWAYS executes!\n",
      "6. No file to close\n"
     ]
    }
   ],
   "source": [
    "def demonstrate_finally():\n",
    "    try:\n",
    "        print(\"1. Trying to open file...\")\n",
    "        file = open('data.txt', 'r')\n",
    "        print(\"2. File opened successfully\")\n",
    "        content = file.read()\n",
    "        # Simulate an error\n",
    "        result = 10 / 0\n",
    "    except FileNotFoundError:\n",
    "        print(\"3. File not found!\")\n",
    "    except ZeroDivisionError:\n",
    "        print(\"3. Division by zero error!\")\n",
    "    else:\n",
    "        print(\"4. No errors occurred\")\n",
    "    finally:\n",
    "        print(\"5. Finally block - This ALWAYS executes!\")\n",
    "        # Cleanup code here\n",
    "        try:\n",
    "            file.close()\n",
    "            print(\"6. File closed\")\n",
    "        except:\n",
    "            print(\"6. No file to close\")\n",
    "\n",
    "# Testing\n",
    "demonstrate_finally()"
   ]
  },
  {
   "cell_type": "markdown",
   "id": "4fd1f573",
   "metadata": {},
   "source": [
    "### Nested try-except Blocks\n",
    "\n",
    "You can nest try-except blocks for fine-grained error handling.\n",
    "\n",
    "**Example 12: Nested Exception Handling**"
   ]
  },
  {
   "cell_type": "code",
   "execution_count": 96,
   "id": "4679775d",
   "metadata": {},
   "outputs": [
    {
     "name": "stdout",
     "output_type": "stream",
     "text": [
      "Outer try block starting...\n",
      "Attempting outer operation...\n",
      "Attempting inner operation...\n",
      "Inner operation successful: 5.0\n",
      "Outer except: Caught index error from outer operation\n",
      "Outer finally: Cleanup complete\n"
     ]
    }
   ],
   "source": [
    "def nested_exception_handling():\n",
    "    print(\"Outer try block starting...\")\n",
    "    \n",
    "    try:\n",
    "        # Outer try block\n",
    "        print(\"Attempting outer operation...\")\n",
    "        outer_list = [1, 2, 3]\n",
    "        \n",
    "        try:\n",
    "            # Inner try block\n",
    "            print(\"Attempting inner operation...\")\n",
    "            value = outer_list[1]\n",
    "            result = 10 / value\n",
    "            print(f\"Inner operation successful: {result}\")\n",
    "            \n",
    "        except ZeroDivisionError:\n",
    "            print(\"Inner except: Division by zero\")\n",
    "            \n",
    "        except IndexError:\n",
    "            print(\"Inner except: Index error\")\n",
    "            \n",
    "        # This will cause an error\n",
    "        problematic = outer_list[10]\n",
    "        \n",
    "    except IndexError:\n",
    "        print(\"Outer except: Caught index error from outer operation\")\n",
    "        \n",
    "    except Exception as e:\n",
    "        print(f\"Outer except: Caught unexpected error: {e}\")\n",
    "    \n",
    "    finally:\n",
    "        print(\"Outer finally: Cleanup complete\")\n",
    "\n",
    "# Testing\n",
    "nested_exception_handling()"
   ]
  },
  {
   "cell_type": "markdown",
   "id": "5d46f8e3",
   "metadata": {},
   "source": [
    "\n",
    "## 3. Raising Exceptions\n",
    "\n",
    "### The raise Statement\n",
    "\n",
    "You can manually trigger exceptions using the `raise` statement. This is useful for:\n",
    "\n",
    "- **Input validation**\n",
    "- **Enforcing business rules**\n",
    "- **Creating custom error conditions**\n",
    "\n",
    "**Syntax:**\n",
    "\n",
    "```python\n",
    "raise ExceptionType(\"Error message\")\n",
    "\n",
    "```"
   ]
  },
  {
   "cell_type": "code",
   "execution_count": 106,
   "id": "abed9418",
   "metadata": {},
   "outputs": [
    {
     "name": "stdout",
     "output_type": "stream",
     "text": [
      "Valid number: 10\n",
      "Error caught: Number must be positive!\n"
     ]
    }
   ],
   "source": [
    "def check_positive(number):\n",
    "    if number < 0:\n",
    "        raise ValueError(\"Number must be positive!\")\n",
    "    return number\n",
    "# Testing\n",
    "try:\n",
    "    result = check_positive(10)\n",
    "    print(f\"Valid number: {result}\")\n",
    "    \n",
    "    result = check_positive(-5)  # This raises ValueError\n",
    "    print(f\"Valid number: {result}\")  # This won't execute\n",
    "    \n",
    "except ValueError as e:\n",
    "    print(f\"Error caught: {e}\")\n"
   ]
  },
  {
   "cell_type": "code",
   "execution_count": 104,
   "id": "37845a2b",
   "metadata": {},
   "outputs": [
    {
     "name": "stdout",
     "output_type": "stream",
     "text": [
      "7\n"
     ]
    }
   ],
   "source": [
    "try: \n",
    "    print(check_positive(7))\n",
    "except ValueError:\n",
    "    print(\"provide number greater than zero\")\n",
    "\n"
   ]
  },
  {
   "cell_type": "code",
   "execution_count": null,
   "id": "2a2ca041",
   "metadata": {},
   "outputs": [
    {
     "data": {
      "text/plain": [
       "True"
      ]
     },
     "execution_count": 110,
     "metadata": {},
     "output_type": "execute_result"
    }
   ],
   "source": []
  },
  {
   "cell_type": "code",
   "execution_count": 111,
   "id": "0c73af94",
   "metadata": {},
   "outputs": [
    {
     "name": "stdout",
     "output_type": "stream",
     "text": [
      "User created: {'username': 'john_doe', 'age': 25}\n",
      "Validation error: Username must be at least 3 characters!\n"
     ]
    }
   ],
   "source": [
    "def create_user(username, age):\n",
    "    \"\"\"Create a user with validation\"\"\"\n",
    "    \n",
    "    # Validate username\n",
    "    if not username:\n",
    "        raise ValueError(\"Username cannot be empty!\")\n",
    "    \n",
    "    if len(username) < 3:\n",
    "        raise ValueError(\"Username must be at least 3 characters!\")\n",
    "    \n",
    "    # Validate age\n",
    "    if not isinstance(age, int):\n",
    "        raise TypeError(\"Age must be an integer!\")\n",
    "    \n",
    "    if age < 0:\n",
    "        raise ValueError(\"Age cannot be negative!\")\n",
    "    \n",
    "    if age < 18:\n",
    "        raise ValueError(\"User must be at least 18 years old!\")\n",
    "    \n",
    "    return {\"username\": username, \"age\": age}\n",
    "\n",
    "# Testing\n",
    "try:\n",
    "    user1 = create_user(\"john_doe\", 25)\n",
    "    print(f\"User created: {user1}\")\n",
    "    \n",
    "    user2 = create_user(\"ab\", 30)  # Too short username\n",
    "except ValueError as e:\n",
    "    print(f\"Validation error: {e}\")\n",
    "except TypeError as e:\n",
    "    print(f\"Type error: {e}\")"
   ]
  },
  {
   "cell_type": "markdown",
   "id": "0942ab8b",
   "metadata": {},
   "source": [
    "### raise from - Exception Chaining\n",
    "\n",
    "Use `raise ... from ...` to show the relationship between exceptions.\n",
    "\n",
    "**Example 17: Exception Chaining**"
   ]
  },
  {
   "cell_type": "code",
   "execution_count": 114,
   "id": "94c60aab",
   "metadata": {},
   "outputs": [
    {
     "name": "stdout",
     "output_type": "stream",
     "text": [
      "Error: Configuration parsing failed\n",
      "Caused by: Invalid JSON format\n"
     ]
    }
   ],
   "source": [
    "def parse_config(config_string):\n",
    "    try:\n",
    "        # Simulate parsing JSON\n",
    "        if '{' not in config_string:\n",
    "            raise ValueError(\"Invalid JSON format\")\n",
    "    except ValueError as e:\n",
    "        # Chain exceptions to show causation\n",
    "        raise RuntimeError(\"Configuration parsing failed\") from e\n",
    "\n",
    "def load_application_config():\n",
    "    try:\n",
    "        config = \"invalid config\"\n",
    "        parse_config(config)\n",
    "    except RuntimeError as e:\n",
    "        print(f\"Error: {e}\")\n",
    "        print(f\"Caused by: {e.__cause__}\")\n",
    "\n",
    "# Testing\n",
    "load_application_config()"
   ]
  },
  {
   "cell_type": "markdown",
   "id": "31475558",
   "metadata": {},
   "source": [
    "\n",
    "## 5. Exception Hierarchy\n",
    "\n",
    "### Understanding Python's Exception Hierarchy\n",
    "\n",
    "Python exceptions are organized in a hierarchy. Understanding this helps you catch exceptions at the right level.\n",
    "\n",
    "```\n",
    "BaseException\n",
    "├── SystemExit\n",
    "├── KeyboardInterrupt\n",
    "├── GeneratorExit\n",
    "└── Exception\n",
    "    ├── StopIteration\n",
    "    ├── ArithmeticError\n",
    "    │   ├── FloatingPointError\n",
    "    │   ├── OverflowError\n",
    "    │   └── ZeroDivisionError\n",
    "    ├── AssertionError\n",
    "    ├── AttributeError\n",
    "    ├── BufferError\n",
    "    ├── EOFError\n",
    "    ├── ImportError\n",
    "    │   └── ModuleNotFoundError\n",
    "    ├── LookupError\n",
    "    │   ├── IndexError\n",
    "    │   └── KeyError\n",
    "    ├── MemoryError\n",
    "    ├── NameError\n",
    "    │   └── UnboundLocalError\n",
    "    ├── OSError\n",
    "    │   ├── FileNotFoundError\n",
    "    │   ├── PermissionError\n",
    "    │   └── TimeoutError\n",
    "    ├── RuntimeError\n",
    "    │   ├── NotImplementedError\n",
    "    │   └── RecursionError\n",
    "    ├── TypeError\n",
    "    ├── ValueError\n",
    "    │   └── UnicodeError\n",
    "    └── Warning\n",
    "        ├── DeprecationWarning\n",
    "        ├── UserWarning\n",
    "        └── FutureWarning\n",
    "```\n"
   ]
  },
  {
   "cell_type": "markdown",
   "id": "4da76133",
   "metadata": {},
   "source": [
    "# Exception Handling\n",
    "Custom exceptions are often created by inheriting from Python's built-in `Exception` class.\n",
    "\n",
    "### WHAT ARE CUSTOM EXCEPTIONS?\n",
    "\n",
    "Custom exceptions are your own error types that you create to handle specific \n",
    "problems in your code. Think of them as custom error messages that are more \n",
    "meaningful than generic Python errors.\n",
    "\n",
    "### WHY USE CUSTOM EXCEPTIONS?\n",
    "\n",
    "1. More descriptive error messages\n",
    "2. Better code organization\n",
    "3. Specific error handling for different problems\n",
    "4. Professional code structure"
   ]
  },
  {
   "cell_type": "code",
   "execution_count": 133,
   "id": "6a554687",
   "metadata": {},
   "outputs": [],
   "source": [
    "class AgeValidationError(Exception):\n",
    "    pass\n",
    "\n",
    "class TooYoungError(AgeValidationError):\n",
    "    \"\"\"Raised when age is below the minimum requirement\"\"\"\n",
    "    pass\n",
    "\n",
    "class TooOldError(AgeValidationError):\n",
    "    \"\"\"Raised when age is above the maximum requirement\"\"\"\n",
    "    pass"
   ]
  },
  {
   "cell_type": "code",
   "execution_count": 136,
   "metadata": {},
   "outputs": [
    {
     "ename": "TooYoungError",
     "evalue": "Age 9 is too young. Minimum age is 20.",
     "output_type": "error",
     "traceback": [
      "\u001b[31m---------------------------------------------------------------------------\u001b[39m",
      "\u001b[31mTooYoungError\u001b[39m                             Traceback (most recent call last)",
      "\u001b[36mCell\u001b[39m\u001b[36m \u001b[39m\u001b[32mIn[136]\u001b[39m\u001b[32m, line 3\u001b[39m\n\u001b[32m      1\u001b[39m age = \u001b[32m9\u001b[39m\n\u001b[32m      2\u001b[39m \u001b[38;5;28;01mif\u001b[39;00m age < \u001b[32m20\u001b[39m:\n\u001b[32m----> \u001b[39m\u001b[32m3\u001b[39m     \u001b[38;5;28;01mraise\u001b[39;00m TooYoungError(\u001b[33mf\u001b[39m\u001b[33m\"\u001b[39m\u001b[33mAge \u001b[39m\u001b[38;5;132;01m{\u001b[39;00mage\u001b[38;5;132;01m}\u001b[39;00m\u001b[33m is too young. Minimum age is 20.\u001b[39m\u001b[33m\"\u001b[39m)\n\u001b[32m      4\u001b[39m \u001b[38;5;28;01melif\u001b[39;00m age > \u001b[32m30\u001b[39m:\n\u001b[32m      5\u001b[39m     \u001b[38;5;28;01mpass\u001b[39;00m\n",
      "\u001b[31mTooYoungError\u001b[39m: Age 9 is too young. Minimum age is 20."
     ]
    }
   ],
   "source": [
    "age = 9\n",
    "if age < 20:\n",
    "    raise TooYoungError(f\"Age {age} is too young. Minimum age is 20.\")\n",
    "elif age > 30:\n",
    "    pass"
   ]
  },
  {
   "cell_type": "code",
   "execution_count": 137,
   "id": "50620b81",
   "metadata": {},
   "outputs": [
    {
     "name": "stdout",
     "output_type": "stream",
     "text": [
      "=== CUSTOM EXCEPTIONS ===\n",
      "=== BASIC EXAM ELIGIBILITY CHECKER ===\n",
      "Your calculated age: 25\n",
      "✓ Age 25 is valid! You can apply for the exam.\n"
     ]
    }
   ],
   "source": [
    "\n",
    "\n",
    "\n",
    "\n",
    "def check_exam_eligibility():\n",
    "    print(\"=== BASIC EXAM ELIGIBILITY CHECKER ===\")\n",
    "    \n",
    "    try:\n",
    "        year = int(input(\"Enter your birth year: \"))\n",
    "        age = 2025 - year\n",
    "        \n",
    "        print(f\"Your calculated age: {age}\")\n",
    "        \n",
    "        if age < 20:\n",
    "            raise TooYoungError(f\"Age {age} is too young. Minimum age is 20.\")\n",
    "        elif age > 30:\n",
    "            raise TooOldError(f\"Age {age} is too old. Maximum age is 30.\")\n",
    "        else:\n",
    "            # Age is between 20-30 (inclusive)\n",
    "            print(f\"✓ Age {age} is valid! You can apply for the exam.\")\n",
    "            \n",
    "    except TooYoungError as e:\n",
    "        print(f\"❌ Sorry: {e}\")\n",
    "    except TooOldError as e:\n",
    "        print(f\"❌ Sorry: {e}\")\n",
    "    except ValueError:\n",
    "        print(\"❌ Please enter a valid year (numbers only)\")\n",
    "\n",
    "\n",
    "if __name__ == \"__main__\":\n",
    "    print(\"=== CUSTOM EXCEPTIONS ===\")\n",
    "    check_exam_eligibility()\n",
    "\n",
    "\n",
    "\n"
   ]
  },
  {
   "cell_type": "markdown",
   "id": "37d8e9af",
   "metadata": {},
   "source": [
    "WHY DO WE NEED TO 'RAISE' BEFORE 'EXCEPT'?\n",
    "\n",
    "Think of exceptions like fire alarms:\n",
    "\n",
    "1. RAISE = Someone pulls the fire alarm (creates an emergency situation)\n",
    "2. EXCEPT = The fire department responds to the alarm (handles the emergency)\n",
    "\n",
    "You can't respond to a fire alarm that was never pulled!"
   ]
  },
  {
   "cell_type": "markdown",
   "id": "cbba8914",
   "metadata": {},
   "source": [
    "![](../../assets/images/custom_exceptions.png)"
   ]
  },
  {
   "cell_type": "code",
   "execution_count": null,
   "id": "1ae6e01d",
   "metadata": {},
   "outputs": [],
   "source": [
    "def show_exception_hierarchy(exception_class, indent=0):\n",
    "    \"\"\"Recursively display exception hierarchy\"\"\"\n",
    "    print(\"  \" * indent + exception_class.__name__)\n",
    "    for subclass in exception_class.__subclasses__():\n",
    "        show_exception_hierarchy(subclass, indent + 1)\n",
    "\n",
    "# Show the hierarchy\n",
    "print(\"Exception Hierarchy from Exception base class:\")\n",
    "show_exception_hierarchy(Exception)"
   ]
  },
  {
   "cell_type": "code",
   "execution_count": null,
   "metadata": {},
   "outputs": [],
   "source": []
  },
  {
   "cell_type": "code",
   "execution_count": null,
   "metadata": {},
   "outputs": [],
   "source": []
  },
  {
   "cell_type": "code",
   "execution_count": null,
   "id": "caf5a17d",
   "metadata": {},
   "outputs": [],
   "source": [
    "class Point:\n",
    "    # class variables\n",
    "    var = 90\n",
    "    def __init__(self, x, y):\n",
    "        self.x = x\n",
    "        self.y = y\n",
    "    def multiply(self):\n",
    "        print(var)\n",
    "        return self.x * self.y\n",
    "\n",
    "\n",
    "p1= Point(10, 5)\n",
    "p2 = Point(10, 8)\n",
    "\n"
   ]
  },
  {
   "cell_type": "code",
   "execution_count": 139,
   "id": "905ccdf1",
   "metadata": {},
   "outputs": [
    {
     "name": "stdout",
     "output_type": "stream",
     "text": [
      "finally was excecuted\n"
     ]
    },
    {
     "data": {
      "text/plain": [
       "8"
      ]
     },
     "execution_count": 139,
     "metadata": {},
     "output_type": "execute_result"
    }
   ],
   "source": [
    "def validate_age(age):\n",
    "    try:\n",
    "        int_age = int(age)\n",
    "        return int_age\n",
    "    except:\n",
    "        int_age = None\n",
    "    finally:\n",
    "        print(\"finally was excecuted\")\n",
    "validate_age(8)"
   ]
  },
  {
   "cell_type": "code",
   "execution_count": 131,
   "id": "1a21cce5",
   "metadata": {},
   "outputs": [
    {
     "name": "stdout",
     "output_type": "stream",
     "text": [
      "10\n",
      "8\n",
      "80\n"
     ]
    }
   ],
   "source": [
    "print(p2.x)\n",
    "print(p2.y)\n",
    "\n",
    "print(p2.multiply())"
   ]
  },
  {
   "cell_type": "code",
   "execution_count": null,
   "id": "d0e49e1d",
   "metadata": {},
   "outputs": [
    {
     "data": {
      "text/plain": [
       "90"
      ]
     },
     "execution_count": 132,
     "metadata": {},
     "output_type": "execute_result"
    }
   ],
   "source": []
  },
  {
   "cell_type": "code",
   "execution_count": 120,
   "id": "7f9f0022",
   "metadata": {},
   "outputs": [],
   "source": [
    "p1.y = 12\n"
   ]
  },
  {
   "cell_type": "code",
   "execution_count": 121,
   "id": "4171b165",
   "metadata": {},
   "outputs": [
    {
     "data": {
      "text/plain": [
       "12"
      ]
     },
     "execution_count": 121,
     "metadata": {},
     "output_type": "execute_result"
    }
   ],
   "source": [
    "p1.y"
   ]
  },
  {
   "cell_type": "code",
   "execution_count": null,
   "id": "856b0ca6",
   "metadata": {},
   "outputs": [
    {
     "ename": "TypeError",
     "evalue": "Point.__init__() takes 3 positional arguments but 4 were given",
     "output_type": "error",
     "traceback": [
      "\u001b[31m---------------------------------------------------------------------------\u001b[39m",
      "\u001b[31mTypeError\u001b[39m                                 Traceback (most recent call last)",
      "\u001b[36mCell\u001b[39m\u001b[36m \u001b[39m\u001b[32mIn[125]\u001b[39m\u001b[32m, line 1\u001b[39m\n\u001b[32m----> \u001b[39m\u001b[32m1\u001b[39m p3 = \u001b[43mPoint\u001b[49m\u001b[43m(\u001b[49m\u001b[32;43m1\u001b[39;49m\u001b[43m,\u001b[49m\u001b[43m \u001b[49m\u001b[32;43m2\u001b[39;49m\u001b[43m,\u001b[49m\u001b[43m \u001b[49m\u001b[32;43m3\u001b[39;49m\u001b[43m)\u001b[49m\n",
      "\u001b[31mTypeError\u001b[39m: Point.__init__() takes 3 positional arguments but 4 were given"
     ]
    }
   ],
   "source": [
    "p3 = Point(1, 2)"
   ]
  },
  {
   "cell_type": "code",
   "execution_count": null,
   "id": "5e8bc144",
   "metadata": {},
   "outputs": [],
   "source": [
    "class Shape:\n",
    "    pass\n",
    "\n",
    "\n",
    "class Rectangle(Shape):\n",
    "    pass"
   ]
  }
 ],
 "metadata": {
  "kernelspec": {
   "display_name": "Python 3",
   "language": "python",
   "name": "python3"
  },
  "language_info": {
   "codemirror_mode": {
    "name": "ipython",
    "version": 3
   },
   "file_extension": ".py",
   "mimetype": "text/x-python",
   "name": "python",
   "nbconvert_exporter": "python",
   "pygments_lexer": "ipython3",
   "version": "3.11.11"
  }
 },
 "nbformat": 4,
 "nbformat_minor": 5
}
