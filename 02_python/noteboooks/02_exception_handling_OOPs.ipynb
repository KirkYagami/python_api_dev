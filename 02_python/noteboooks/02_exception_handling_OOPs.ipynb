{
 "cells": [
  {
   "cell_type": "code",
   "execution_count": 58,
   "id": "dd747f52",
   "metadata": {},
   "outputs": [
    {
     "name": "stdout",
     "output_type": "stream",
     "text": [
      "Square area: 25\n",
      "Circle area: 78.53975\n",
      "Rectangle area: 24\n",
      "Triangle area: 12.0\n"
     ]
    },
    {
     "ename": "NotImplementedError",
     "evalue": "Cannot calculate area for <class 'set'>",
     "output_type": "error",
     "traceback": [
      "\u001b[31m---------------------------------------------------------------------------\u001b[39m",
      "\u001b[31mNotImplementedError\u001b[39m                       Traceback (most recent call last)",
      "\u001b[36mCell\u001b[39m\u001b[36m \u001b[39m\u001b[32mIn[58]\u001b[39m\u001b[32m, line 34\u001b[39m\n\u001b[32m     31\u001b[39m \u001b[38;5;28mprint\u001b[39m(\u001b[33mf\u001b[39m\u001b[33m\"\u001b[39m\u001b[33mRectangle area: \u001b[39m\u001b[38;5;132;01m{\u001b[39;00mcalc.area([\u001b[32m4\u001b[39m,\u001b[38;5;250m \u001b[39m\u001b[32m6\u001b[39m])\u001b[38;5;132;01m}\u001b[39;00m\u001b[33m\"\u001b[39m)\n\u001b[32m     32\u001b[39m \u001b[38;5;28mprint\u001b[39m(\u001b[33mf\u001b[39m\u001b[33m\"\u001b[39m\u001b[33mTriangle area: \u001b[39m\u001b[38;5;132;01m{\u001b[39;00mcalc.area((\u001b[32m4\u001b[39m,\u001b[38;5;250m \u001b[39m\u001b[32m6\u001b[39m))\u001b[38;5;132;01m}\u001b[39;00m\u001b[33m\"\u001b[39m)\n\u001b[32m---> \u001b[39m\u001b[32m34\u001b[39m \u001b[38;5;28mprint\u001b[39m(\u001b[33mf\u001b[39m\u001b[33m\"\u001b[39m\u001b[33mTriangle area: \u001b[39m\u001b[38;5;132;01m{\u001b[39;00m\u001b[43mcalc\u001b[49m\u001b[43m.\u001b[49m\u001b[43marea\u001b[49m\u001b[43m(\u001b[49m\u001b[43m{\u001b[49m\u001b[32;43m1\u001b[39;49m\u001b[43m,\u001b[49m\u001b[32;43m2\u001b[39;49m\u001b[43m}\u001b[49m\u001b[43m)\u001b[49m\u001b[38;5;132;01m}\u001b[39;00m\u001b[33m\"\u001b[39m)\n",
      "\u001b[36mFile \u001b[39m\u001b[32mc:\\Users\\NikhilSharma\\.conda\\envs\\llms2\\Lib\\functools.py:946\u001b[39m, in \u001b[36msingledispatchmethod.__get__.<locals>._method\u001b[39m\u001b[34m(*args, **kwargs)\u001b[39m\n\u001b[32m    944\u001b[39m \u001b[38;5;28;01mdef\u001b[39;00m\u001b[38;5;250m \u001b[39m\u001b[34m_method\u001b[39m(*args, **kwargs):\n\u001b[32m    945\u001b[39m     method = \u001b[38;5;28mself\u001b[39m.dispatcher.dispatch(args[\u001b[32m0\u001b[39m].\u001b[34m__class__\u001b[39m)\n\u001b[32m--> \u001b[39m\u001b[32m946\u001b[39m     \u001b[38;5;28;01mreturn\u001b[39;00m \u001b[43mmethod\u001b[49m\u001b[43m.\u001b[49m\u001b[34;43m__get__\u001b[39;49m\u001b[43m(\u001b[49m\u001b[43mobj\u001b[49m\u001b[43m,\u001b[49m\u001b[43m \u001b[49m\u001b[38;5;28;43mcls\u001b[39;49m\u001b[43m)\u001b[49m\u001b[43m(\u001b[49m\u001b[43m*\u001b[49m\u001b[43margs\u001b[49m\u001b[43m,\u001b[49m\u001b[43m \u001b[49m\u001b[43m*\u001b[49m\u001b[43m*\u001b[49m\u001b[43mkwargs\u001b[49m\u001b[43m)\u001b[49m\n",
      "\u001b[36mCell\u001b[39m\u001b[36m \u001b[39m\u001b[32mIn[58]\u001b[39m\u001b[32m, line 6\u001b[39m, in \u001b[36mGeometryCalculator.area\u001b[39m\u001b[34m(self, shape)\u001b[39m\n\u001b[32m      4\u001b[39m \u001b[38;5;129m@singledispatchmethod\u001b[39m\n\u001b[32m      5\u001b[39m \u001b[38;5;28;01mdef\u001b[39;00m\u001b[38;5;250m \u001b[39m\u001b[34marea\u001b[39m(\u001b[38;5;28mself\u001b[39m, shape):\n\u001b[32m----> \u001b[39m\u001b[32m6\u001b[39m     \u001b[38;5;28;01mraise\u001b[39;00m \u001b[38;5;167;01mNotImplementedError\u001b[39;00m(\u001b[33mf\u001b[39m\u001b[33m\"\u001b[39m\u001b[33mCannot calculate area for \u001b[39m\u001b[38;5;132;01m{\u001b[39;00m\u001b[38;5;28mtype\u001b[39m(shape)\u001b[38;5;132;01m}\u001b[39;00m\u001b[33m\"\u001b[39m)\n",
      "\u001b[31mNotImplementedError\u001b[39m: Cannot calculate area for <class 'set'>"
     ]
    }
   ],
   "source": [
    "from functools import singledispatchmethod\n",
    "\n",
    "class GeometryCalculator:\n",
    "    @singledispatchmethod\n",
    "    def area(self, shape):\n",
    "        raise NotImplementedError(f\"Cannot calculate area for {type(shape)}\")\n",
    "    \n",
    "    @area.register(int)\n",
    "    def _(self, side):\n",
    "        return side ** 2\n",
    "    \n",
    "    @area.register(float)\n",
    "    def _(self, radius):\n",
    "        return 3.14159 * radius ** 2\n",
    "    \n",
    "    @area.register(list)\n",
    "    def _(self, dimensions):\n",
    "        if len(dimensions) == 2:\n",
    "            return dimensions[0] * dimensions[1]\n",
    "        raise ValueError(\"List must contain exactly 2 elements\")\n",
    "    \n",
    "    @area.register(tuple)\n",
    "    def _(self, dimensions):\n",
    "        if len(dimensions) == 2:\n",
    "            return 0.5 * dimensions[0] * dimensions[1]\n",
    "        raise ValueError(\"Tuple must contain exactly 2 elements\")\n",
    "\n",
    "calc = GeometryCalculator()\n",
    "print(f\"Square area: {calc.area(5)}\")\n",
    "print(f\"Circle area: {calc.area(5.0)}\")\n",
    "print(f\"Rectangle area: {calc.area([4, 6])}\")\n",
    "print(f\"Triangle area: {calc.area((4, 6))}\")\n",
    "\n",
    "print(f\"Triangle area: {calc.area({1,2})}\")\n",
    "\n"
   ]
  },
  {
   "cell_type": "code",
   "execution_count": null,
   "id": "12c2f33d",
   "metadata": {},
   "outputs": [
    {
     "name": "stdout",
     "output_type": "stream",
     "text": [
      "Square area: 25\n",
      "Circle area: 78.53975\n",
      "Rectangle area: 24\n",
      "Triangle area: 12.0\n"
     ]
    }
   ],
   "source": []
  },
  {
   "cell_type": "code",
   "execution_count": null,
   "id": "abc963e4",
   "metadata": {},
   "outputs": [],
   "source": []
  }
 ],
 "metadata": {
  "kernelspec": {
   "display_name": "Python 3",
   "language": "python",
   "name": "python3"
  },
  "language_info": {
   "codemirror_mode": {
    "name": "ipython",
    "version": 3
   },
   "file_extension": ".py",
   "mimetype": "text/x-python",
   "name": "python",
   "nbconvert_exporter": "python",
   "pygments_lexer": "ipython3",
   "version": "3.11.11"
  }
 },
 "nbformat": 4,
 "nbformat_minor": 5
}
