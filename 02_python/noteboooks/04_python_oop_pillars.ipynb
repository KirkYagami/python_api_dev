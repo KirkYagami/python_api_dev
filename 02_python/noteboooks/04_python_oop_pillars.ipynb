{
 "cells": [
  {
   "cell_type": "code",
   "execution_count": null,
   "id": "916df740",
   "metadata": {},
   "outputs": [],
   "source": [
    "# what is the use of @staticmethod "
   ]
  },
  {
   "cell_type": "markdown",
   "id": "7cdd85d8",
   "metadata": {},
   "source": [
    "**Inheritance** is a fundamental concept in OOP that allows a class (child/derived class) to inherit attributes and methods from another class (parent/base class). This promotes code reusability and establishes a hierarchical relationship between classes.\n",
    "\n",
    "**Key Benefits:**\n",
    "\n",
    "- Code reusability\n",
    "- Logical hierarchy\n",
    "- Extensibility\n",
    "- Polymorphism support"
   ]
  },
  {
   "cell_type": "code",
   "execution_count": 2,
   "id": "abb296bd",
   "metadata": {},
   "outputs": [],
   "source": [
    "class A:\n",
    "    pass\n",
    "\n",
    "class B(A):\n",
    "    pass\n"
   ]
  },
  {
   "cell_type": "markdown",
   "id": "0fe24f77",
   "metadata": {},
   "source": [
    "\n",
    "#### Basic Single Inheritance"
   ]
  },
  {
   "cell_type": "code",
   "execution_count": 3,
   "metadata": {},
   "outputs": [],
   "source": [
    "# Parent class\n",
    "class Animal:\n",
    "    def __init__(self, name, species):\n",
    "        self.name = name\n",
    "        self.species = species\n",
    "    \n",
    "    def make_sound(self):\n",
    "        return \"Some generic sound\"\n",
    "    \n",
    "    def info(self):\n",
    "        return f\"{self.name} is a {self.species}\"\n",
    "\n",
    "\n",
    "# Child class inheriting from Animal\n",
    "class Dog(Animal):\n",
    "    def __init__(self, name, breed):\n",
    "        # Calling parent constructor\n",
    "        Animal.__init__(self, name, \"Canine\")\n",
    "        self.breed = breed\n",
    "    \n",
    "    def make_sound(self):\n",
    "        return \"Woof! Woof!\"\n",
    "    \n",
    "    def fetch(self):\n",
    "        return f\"{self.name} is fetching the ball!\"\n"
   ]
  },
  {
   "cell_type": "code",
   "execution_count": 13,
   "id": "42b25619",
   "metadata": {},
   "outputs": [],
   "source": [
    "class Grandparent:\n",
    "    pass"
   ]
  },
  {
   "cell_type": "code",
   "execution_count": 4,
   "id": "b0ff5f7b",
   "metadata": {},
   "outputs": [
    {
     "data": {
      "text/plain": [
       "'Canine'"
      ]
     },
     "execution_count": 4,
     "metadata": {},
     "output_type": "execute_result"
    }
   ],
   "source": [
    "dog = Dog(\"Buddy\", \"Golden Retriever\")\n",
    "\n",
    "dog.species"
   ]
  },
  {
   "cell_type": "code",
   "execution_count": 5,
   "metadata": {},
   "outputs": [
    {
     "data": {
      "text/plain": [
       "'Buddy is a Canine'"
      ]
     },
     "execution_count": 5,
     "metadata": {},
     "output_type": "execute_result"
    }
   ],
   "source": [
    "dog.info()"
   ]
  },
  {
   "cell_type": "code",
   "execution_count": 6,
   "metadata": {},
   "outputs": [
    {
     "name": "stdout",
     "output_type": "stream",
     "text": [
      "Buddy is a Canine\n",
      "Woof! Woof!\n",
      "Buddy is fetching the ball!\n"
     ]
    }
   ],
   "source": [
    "# Using the classes\n",
    "dog = Dog(\"Buddy\", \"Golden Retriever\")\n",
    "print(dog.info())           # Buddy is a Canine (inherited method)\n",
    "print(dog.make_sound())     # Woof! Woof! (overridden method)\n",
    "print(dog.fetch())          # Buddy is fetching the ball! (own method)"
   ]
  },
  {
   "cell_type": "markdown",
   "id": "316b974b",
   "metadata": {},
   "source": [
    "#### Multiple Inheritance"
   ]
  },
  {
   "cell_type": "code",
   "execution_count": null,
   "metadata": {},
   "outputs": [
    {
     "name": "stdout",
     "output_type": "stream",
     "text": [
      "Donald is a Bird\n",
      "Flying in the sky\n",
      "Swimming in water\n",
      "Some generic sound\n"
     ]
    }
   ],
   "source": [
    "class Flyer:\n",
    "\n",
    "    def fly(self):\n",
    "        return \"Flying in the sky\"\n",
    "\n",
    "class Swimmer:\n",
    "    def swim(self):\n",
    "        return \"Swimming in water\"\n",
    "\n",
    "class Duck(Animal, Flyer, Swimmer):\n",
    "    def __init__(self, name):\n",
    "        Animal.__init__(self, name, \"Bird\")\n",
    "\n",
    "    \n",
    "    \n",
    "    # def make_sound(self):\n",
    "    #     return \"Quack! Quack!\"\n",
    "\n",
    "# Using multiple inheritance\n",
    "duck = Duck(\"Donald\")\n",
    "print(duck.info())          # Donald is a Bird\n",
    "print(duck.fly())           # Flying in the sky\n",
    "print(duck.swim())          # Swimming in water\n",
    "print(duck.make_sound())    # Quack! Quack!\n"
   ]
  },
  {
   "cell_type": "code",
   "execution_count": null,
   "id": "82c3183b",
   "metadata": {},
   "outputs": [],
   "source": [
    "# MRO"
   ]
  },
  {
   "cell_type": "code",
   "execution_count": 11,
   "id": "569e88d7",
   "metadata": {},
   "outputs": [
    {
     "data": {
      "text/plain": [
       "' This shape is for blue color.'"
      ]
     },
     "execution_count": 11,
     "metadata": {},
     "output_type": "execute_result"
    }
   ],
   "source": [
    "class Shape:\n",
    "    def __init__(self, color):\n",
    "        self.color = color\n",
    "    def info(self):\n",
    "        return f\" This shape is for {self.color} color.\"\n",
    "\n",
    "class Circle(Shape):\n",
    "    def __init__(self, color, radius):\n",
    "        Shape.__init__(self, color)\n",
    "        self.radius = radius\n",
    "\n",
    "\n",
    "c = Circle(\"blue\", 6)\n",
    "c.info()"
   ]
  },
  {
   "cell_type": "code",
   "execution_count": null,
   "id": "85805af4",
   "metadata": {},
   "outputs": [
    {
     "data": {
      "text/plain": [
       "type"
      ]
     },
     "execution_count": 15,
     "metadata": {},
     "output_type": "execute_result"
    }
   ],
   "source": []
  },
  {
   "cell_type": "markdown",
   "id": "d502d5b8",
   "metadata": {},
   "source": [
    "## 1. Classes Are Objects: The Metaclass `type`\n",
    "\n",
    "In Python, classes themselves are objects. They are created using a built-in metaclass called `type`.\n",
    "\n",
    "> In Python, the fundamental principle is **everything is an object**.\n",
    "> \n",
    "\n",
    " > A **metaclass** is the 'class of a class'—it's what creates class objects. "
   ]
  },
  {
   "cell_type": "code",
   "execution_count": 16,
   "id": "158d17df",
   "metadata": {},
   "outputs": [
    {
     "data": {
      "text/plain": [
       "True"
      ]
     },
     "execution_count": 16,
     "metadata": {},
     "output_type": "execute_result"
    }
   ],
   "source": [
    "isinstance(Shape, type)"
   ]
  },
  {
   "cell_type": "markdown",
   "id": "eb86b97b",
   "metadata": {},
   "source": [
    "\n",
    "### Creation Flow\n",
    "\n",
    "When you define a class using the `class` keyword:\n",
    "\n",
    "```python\n",
    "class Parent:\n",
    "    pass\n",
    "````\n",
    "\n",
    "Python’s interpreter executes this definition, calling the `type` metaclass to construct the `Parent` object. This is equivalent to an internal call:\n"
   ]
  },
  {
   "cell_type": "code",
   "execution_count": 21,
   "id": "755604ac",
   "metadata": {},
   "outputs": [
    {
     "data": {
      "text/plain": [
       "<function __main__.Person.greet()>"
      ]
     },
     "execution_count": 21,
     "metadata": {},
     "output_type": "execute_result"
    }
   ],
   "source": [
    "class Person:\n",
    "    def greet():\n",
    "        print(\"greet was called\")\n",
    "\n",
    "Person.__dict__['greet']\n",
    "\n"
   ]
  },
  {
   "cell_type": "code",
   "execution_count": 23,
   "id": "811b4511",
   "metadata": {},
   "outputs": [
    {
     "name": "stdout",
     "output_type": "stream",
     "text": [
      "hi\n",
      "hello\n"
     ]
    }
   ],
   "source": [
    "def func1():\n",
    "    print(\"hi\")\n",
    "\n",
    "def func2():\n",
    "    print(\"hello\")\n",
    "\n",
    "funcs = [func1, func2]\n",
    "\n",
    "for f in funcs:\n",
    "    f()\n"
   ]
  },
  {
   "cell_type": "code",
   "execution_count": 25,
   "id": "c841e191",
   "metadata": {},
   "outputs": [],
   "source": [
    "class Parent:\n",
    "    pass\n",
    "\n",
    "# Parent = type(\"Parent\", (), {})\n",
    "\n",
    "# \"Parent\" → the class name\n",
    "# () → tuple of base classes (empty here)\n",
    "# {} → dictionary containing class attributes and methods"
   ]
  },
  {
   "cell_type": "markdown",
   "id": "ea957a21",
   "metadata": {},
   "source": [
    "### Class Attributes and References\n",
    "\n",
    "Every class object therefore possesses:\n",
    "\n",
    "- **A Namespace (`__dict__`):** A mapping (dictionary) of the class's attributes and methods.\n",
    "- **Base Class Reference (`__bases__`):** A tuple of its immediate parent class(es).\n",
    "- **MRO Reference (`__mro__`):** The computed Method Resolution Order (see Section 3).\n",
    "- **Metaclass Reference (`__class__`):** A reference to the object that created it (i.e., `type`).\n"
   ]
  },
  {
   "cell_type": "code",
   "execution_count": 26,
   "id": "5e1a77b5",
   "metadata": {},
   "outputs": [
    {
     "data": {
      "text/plain": [
       "(object,)"
      ]
     },
     "execution_count": 26,
     "metadata": {},
     "output_type": "execute_result"
    }
   ],
   "source": [
    "Parent.__bases__"
   ]
  },
  {
   "cell_type": "markdown",
   "id": "1e52c8a5",
   "metadata": {},
   "source": [
    "\n",
    "## 2. Defining and Linking a Child Class\n",
    "\n",
    "When a subclass is created, its primary link to the parent is established via the `__bases__` attribute.\n",
    "\n",
    "### Inheritance Definition"
   ]
  },
  {
   "cell_type": "code",
   "execution_count": 27,
   "id": "820139b6",
   "metadata": {},
   "outputs": [],
   "source": [
    "class Child(Parent):\n",
    "    def child_method(self):\n",
    "        print(\"I am a child.\")"
   ]
  },
  {
   "cell_type": "code",
   "execution_count": null,
   "id": "2944e1d8",
   "metadata": {},
   "outputs": [],
   "source": [
    "Child = type(\n",
    "    \"Child\", \n",
    "    (Parent,), # <--- The base class Parent is included here\n",
    "    {'child_method': ...}\n",
    ")"
   ]
  },
  {
   "cell_type": "code",
   "execution_count": 28,
   "id": "29822579",
   "metadata": {},
   "outputs": [
    {
     "data": {
      "text/plain": [
       "(__main__.Parent,)"
      ]
     },
     "execution_count": 28,
     "metadata": {},
     "output_type": "execute_result"
    }
   ],
   "source": [
    "Child.__bases__"
   ]
  },
  {
   "cell_type": "markdown",
   "id": "61596b07",
   "metadata": {},
   "source": [
    "\n",
    "### The Inheritance Link\n",
    "\n",
    "The resulting class object `Child` holds a crucial reference:\n",
    "\n",
    "```python\n",
    "print(Child.__bases__)\n",
    "# Output: (<class '__main__.Parent'>,)\n",
    "```\n",
    "\n",
    "**Inheritance is not an explicit copy operation.** The child class object simply stores a **reference** to its parent(s). When an attribute is requested on `Child`, if it's not found in `Child.__dict__`, Python follows these references to the base classes, initiating the **lookup process**.\n"
   ]
  },
  {
   "cell_type": "markdown",
   "id": "2cc51550",
   "metadata": {},
   "source": [
    "\n",
    "## 3. Attribute Lookup and Method Resolution Order (MRO)\n",
    "\n",
    "When an attribute or method is accessed on an instance, Python searches a predefined sequence of classes known as the **Method Resolution Order (MRO)**.\n",
    "\n",
    "### MRO Mechanics\n",
    "\n",
    "The MRO is a tuple of class objects, guaranteeing that a class is checked before its parents, and respecting the order of inheritance in multiple inheritance scenarios.\n",
    "\n",
    "You can inspect the MRO using two equivalent methods:"
   ]
  },
  {
   "cell_type": "code",
   "execution_count": 30,
   "id": "7e8f49ef",
   "metadata": {},
   "outputs": [
    {
     "data": {
      "text/plain": [
       "[__main__.Circle, __main__.Shape, object]"
      ]
     },
     "execution_count": 30,
     "metadata": {},
     "output_type": "execute_result"
    }
   ],
   "source": [
    "Circle.mro()"
   ]
  },
  {
   "cell_type": "code",
   "execution_count": 31,
   "id": "1cca82dd",
   "metadata": {},
   "outputs": [
    {
     "name": "stdout",
     "output_type": "stream",
     "text": [
      "[<class '__main__.Child'>, <class '__main__.Parent'>, <class '__main__.Grandparent'>, <class 'object'>]\n",
      "(<class '__main__.Child'>, <class '__main__.Parent'>, <class '__main__.Grandparent'>, <class 'object'>)\n"
     ]
    }
   ],
   "source": [
    "class Parent:\n",
    "    pass\n",
    "\n",
    "class Child(Parent):\n",
    "    pass\n",
    "\n",
    "Child.__mro__\n",
    "# or\n",
    "Child.mro()\n",
    "\n",
    "\n",
    "\n",
    "# (<class '__main__.Child'>, <class '__main__.Parent'>, <class 'object'>)\n",
    "\n",
    "# Python searches in this order:\n",
    "\n",
    "# 1. Child\n",
    "# 1. Parent\n",
    "# 2. object (the root of all classes)\n",
    "\n",
    "# ------------------------------\n",
    "\n",
    "\n",
    "class Grandparent: pass\n",
    "class Parent(Grandparent): pass\n",
    "class Child(Parent): pass\n",
    "\n",
    "print(Child.mro())\n",
    "# OR\n",
    "print(Child.__mro__)\n",
    "\n",
    "# Output for simple inheritance:\n",
    "# (<class '__main__.Child'>, <class '__main__.Parent'>, <class '__main__.Grandparent'>, <class 'object'>)\n",
    "\n"
   ]
  },
  {
   "cell_type": "markdown",
   "id": "1a0ffe2a",
   "metadata": {},
   "source": [
    "\n",
    "### The `C3 Linearization` Algorithm\n",
    "\n",
    "In more complex (especially multiple) inheritance, the MRO is calculated using the **C3 Linearization Algorithm**. Its core principle is:\n",
    "\n",
    "> A class must precede all of its ancestors, and in the case of multiple inheritance, the order of the base classes specified in the definition must be preserved.\n",
    "\n",
    "This ensures a deterministic and consistent lookup path, resolving potential conflicts that arise when multiple parents share a method name.\n",
    "\n",
    "\n",
    "### The Lookup Process\n",
    "\n",
    "1. Python starts the search in the **instance's dictionary** (`obj.__dict__`).\n",
    "2. If not found, it iterates through the classes in the **MRO** (starting with the instance's class).    \n",
    "3. For each class, it checks the class's **dictionary** (`Class.__dict__`).\n",
    "4. If the attribute is found, the search stops and the attribute is returned.    \n",
    "5. If the search reaches the end of the MRO (i.e., `object`) without success, an `AttributeError` is raised.\n"
   ]
  },
  {
   "cell_type": "markdown",
   "id": "a05afe48",
   "metadata": {},
   "source": [
    "\n",
    "## 4. How `super()` Works Under the Hood\n",
    "\n",
    "The `super()` function is the mechanism for delegated method calls, designed specifically to operate correctly within the MRO, particularly in complex multiple inheritance scenarios.\n",
    "\n",
    "### Not a \"Parent\" Call\n",
    "\n",
    "**Crucially, `super()` does not simply call the immediate parent class.** It is a _proxy object_ that provides the context for the next class in the MRO _after the class where `super()` is called_.\n",
    "\n",
    "### Internal Steps of `super()`\n",
    "\n",
    "When you call `super().method(...)`:\n",
    "\n",
    "1. **MRO Determination:** Python identifies the current instance's MRO.\n",
    "    \n",
    "2. **Location:** It locates the class where the `super()` call is executed (e.g., `B` in the example below) within the MRO.\n",
    "    \n",
    "3. **Delegation:** It finds the **next class** in the MRO sequence (e.g., `A`).\n",
    "    \n",
    "4. **Invocation:** It calls the method (`.method()`) on that _next class_, **passing the original `self` instance along.**\n",
    "    \n",
    "> [!Note on syntax]\n",
    "> \n",
    "> The most common modern usage is the \"no-argument\" form: `super().method()`.\n",
    "> \n",
    "> Internally, Python 3 translates this into: `super(CurrentClass, self).method()`.\n",
    "\n"
   ]
  },
  {
   "cell_type": "code",
   "execution_count": null,
   "id": "5c2f01ab",
   "metadata": {},
   "outputs": [],
   "source": []
  },
  {
   "cell_type": "markdown",
   "id": "b93f3eb7",
   "metadata": {},
   "source": [
    "\n",
    "## 5. Method Binding and the Role of `self`\n",
    "\n",
    "Instance methods are fundamentally different from regular functions because they are **bound** to an instance when they are accessed.\n",
    "\n",
    "### The Descriptor Protocol\n",
    "\n",
    "Methods are implemented using Python's **Descriptor Protocol**. A function object stored in a class's dictionary has a special method (`__get__`) that is executed when the function is retrieved via an instance.\n",
    "\n",
    "When you call:\n",
    "\n",
    "```python\n",
    "obj = Child()\n",
    "obj.method()\n",
    "```\n",
    "\n",
    "Python doesn't just execute the function; it first **binds** the function to the instance `obj`. This translation is approximately:\n",
    "\n",
    "```python\n",
    "# Internal translation\n",
    "Class.method(obj) \n",
    "```\n",
    "\n",
    "### `self` is the Instance\n",
    "\n",
    "The `self` parameter in an instance method is simply the conventional name for the **reference to the instance object** that Python automatically passes as the _first argument_ during this binding process. Without the instance being explicitly passed, the method cannot access the instance's state (`obj.attribute`).\n",
    "\n",
    "> That’s why every instance method must explicitly include self as its first parameter — it refers to the instance the method is called on.\n",
    "\n"
   ]
  },
  {
   "cell_type": "markdown",
   "id": "2dab4d50",
   "metadata": {},
   "source": [
    "## 6. The Complete Inheritance Execution Flow\n",
    "\n",
    "### Example"
   ]
  },
  {
   "cell_type": "code",
   "execution_count": null,
   "id": "0682a4b0",
   "metadata": {},
   "outputs": [
    {
     "name": "stdout",
     "output_type": "stream",
     "text": [
      "A: from class B\n",
      "B: from class B\n"
     ]
    }
   ],
   "source": [
    "class A:\n",
    "    def show(self):\n",
    "        print(\"A: from class\", self.__class__.__name__)\n",
    "        super().\n",
    "\n",
    "class B(A):\n",
    "    def show(self):\n",
    "        # MRO for B is (B, A, object)\n",
    "        super().show() # Delegate to the next class (A)\n",
    "        print(\"B: from class\", self.__class__.__name__)\n",
    "\n",
    "b = B()\n",
    "b.show()"
   ]
  },
  {
   "cell_type": "markdown",
   "id": "2be01ca1",
   "metadata": {},
   "source": [
    "\n",
    "### Step-by-Step Execution\n",
    "\n",
    "1. **`b.show()` Called:** Python looks up `show` in `b.__class__` (`B`).\n",
    "2. **Binding:** The method `B.show` is found and bound to the instance `b`. The execution starts with the instance `b` as `self`.\n",
    "3. **`super().show()`:**\n",
    "    \n",
    "    - `super()` determines the MRO is `(B, A, object)`.\n",
    "        \n",
    "    - The current class is `B`.\n",
    "        \n",
    "    - The **next class** is `A`.\n",
    "        \n",
    "    - It effectively calls `A.show(b)` (passing the original instance `b` as `self`).\n",
    "        \n",
    "4. **`A.show(b)` Executes:** It accesses `self.__class__.__name__` (which is still `B`) and prints the first line.\n",
    "    \n",
    "5. **Return to `B.show`:** Control returns to `B`'s method, which executes the next line.\n",
    "    \n",
    "6. **Second Print:** Prints the second line.\n",
    "    \n",
    "\n",
    "### Output:\n",
    "\n",
    "```\n",
    "A: from class B\n",
    "B: from class B\n",
    "```\n",
    "\n",
    "This demonstrates how `super()` and the MRO ensure that methods from the entire inheritance chain can cooperate using a single, consistent instance (`b`).\n",
    "\n",
    "---\n",
    "\n",
    "## 7. Summary and Key Takeaways\n",
    "\n",
    "### Core Concepts\n",
    "\n",
    "- **Classes are Objects:** Defined by the `type` metaclass, possessing a namespace (`__dict__`) and base references (`__bases__`).\n",
    "    \n",
    "- **MRO Governs Lookup:** Attribute and method access is strictly governed by the **Method Resolution Order** (`__mro__`), which is computed using C3 Linearization.\n",
    "    \n",
    "- **`super()` is an MRO Proxy:** `super()` is a delegation mechanism that allows calls to the **next class in the MRO**, ensuring cooperative and consistent behavior, especially in multiple inheritance.\n",
    "    \n",
    "- **Binding Passes `self`:** Instance methods are automatically bound to the instance via the Descriptor Protocol, ensuring the instance is passed as the first argument (`self`).\n",
    "\n",
    "```python\n",
    "# Final review cheatsheet\n",
    "print(Child.__bases__) # Immediate parent(s)\n",
    "print(Child.mro())     # Full lookup chain\n",
    "```\n",
    "\n",
    "> [!tip] Best Practice\n",
    "> \n",
    "> Always use the no-argument form of super() in your instance methods (e.g., super().__init__()). It is the most robust, readable, and future-proof way to manage cooperative inheritance.\n",
    "\n",
    "---\n",
    "\n",
    "Keep Learning!!!"
   ]
  },
  {
   "cell_type": "code",
   "execution_count": 33,
   "id": "57981549",
   "metadata": {},
   "outputs": [
    {
     "data": {
      "text/plain": [
       "mappingproxy({'__new__': <function object.__new__(*args, **kwargs)>,\n",
       "              '__repr__': <slot wrapper '__repr__' of 'object' objects>,\n",
       "              '__hash__': <slot wrapper '__hash__' of 'object' objects>,\n",
       "              '__str__': <slot wrapper '__str__' of 'object' objects>,\n",
       "              '__getattribute__': <slot wrapper '__getattribute__' of 'object' objects>,\n",
       "              '__setattr__': <slot wrapper '__setattr__' of 'object' objects>,\n",
       "              '__delattr__': <slot wrapper '__delattr__' of 'object' objects>,\n",
       "              '__lt__': <slot wrapper '__lt__' of 'object' objects>,\n",
       "              '__le__': <slot wrapper '__le__' of 'object' objects>,\n",
       "              '__eq__': <slot wrapper '__eq__' of 'object' objects>,\n",
       "              '__ne__': <slot wrapper '__ne__' of 'object' objects>,\n",
       "              '__gt__': <slot wrapper '__gt__' of 'object' objects>,\n",
       "              '__ge__': <slot wrapper '__ge__' of 'object' objects>,\n",
       "              '__init__': <slot wrapper '__init__' of 'object' objects>,\n",
       "              '__reduce_ex__': <method '__reduce_ex__' of 'object' objects>,\n",
       "              '__reduce__': <method '__reduce__' of 'object' objects>,\n",
       "              '__getstate__': <method '__getstate__' of 'object' objects>,\n",
       "              '__subclasshook__': <method '__subclasshook__' of 'object' objects>,\n",
       "              '__init_subclass__': <method '__init_subclass__' of 'object' objects>,\n",
       "              '__format__': <method '__format__' of 'object' objects>,\n",
       "              '__sizeof__': <method '__sizeof__' of 'object' objects>,\n",
       "              '__dir__': <method '__dir__' of 'object' objects>,\n",
       "              '__class__': <attribute '__class__' of 'object' objects>,\n",
       "              '__doc__': 'The base class of the class hierarchy.\\n\\nWhen called, it accepts no arguments and returns a new featureless\\ninstance that has no instance attributes and cannot be given any.\\n'})"
      ]
     },
     "execution_count": 33,
     "metadata": {},
     "output_type": "execute_result"
    }
   ],
   "source": [
    "object.__dict__"
   ]
  },
  {
   "cell_type": "markdown",
   "id": "b63fdb8f",
   "metadata": {},
   "source": []
  }
 ],
 "metadata": {
  "kernelspec": {
   "display_name": "Python 3",
   "language": "python",
   "name": "python3"
  },
  "language_info": {
   "codemirror_mode": {
    "name": "ipython",
    "version": 3
   },
   "file_extension": ".py",
   "mimetype": "text/x-python",
   "name": "python",
   "nbconvert_exporter": "python",
   "pygments_lexer": "ipython3",
   "version": "3.11.11"
  }
 },
 "nbformat": 4,
 "nbformat_minor": 5
}
