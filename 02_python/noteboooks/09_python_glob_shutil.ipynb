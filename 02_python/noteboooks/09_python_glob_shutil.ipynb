{
 "cells": [
  {
   "cell_type": "code",
   "execution_count": null,
   "id": "9cf928a5",
   "metadata": {},
   "outputs": [],
   "source": []
  },
  {
   "cell_type": "markdown",
   "id": "ba52cb6c",
   "metadata": {},
   "source": [
    "\n",
    "## Introduction\n",
    "\n",
    "Python provides powerful modules for file system operations. This lecture covers two essential modules:\n",
    "\n",
    "- **glob**: Pattern matching for file paths\n",
    "- **shutil**: High-level file operations\n",
    "\n",
    "## 1. The glob Module\n",
    "\n",
    "### 1.1 What is glob?\n",
    "\n",
    "The `glob` module finds all pathnames matching a specified pattern according to Unix shell rules. It's useful for finding files that match specific criteria.\n",
    "\n",
    "```python\n",
    "import glob\n",
    "```\n",
    "\n",
    "### 1.2 Basic Pattern Matching\n",
    "\n",
    "**Wildcards:**\n",
    "\n",
    "- `*` - Matches zero or more characters\n",
    "- `?` - Matches exactly one character\n",
    "- `[seq]` - Matches any character in seq\n",
    "- `[!seq]` - Matches any character not in seq\n",
    "\n",
    "### 1.3 Common glob Operations\n",
    "\n",
    "**Find all Python files:**"
   ]
  },
  {
   "cell_type": "code",
   "execution_count": 5,
   "id": "665782f9",
   "metadata": {},
   "outputs": [
    {
     "name": "stdout",
     "output_type": "stream",
     "text": [
      "['C://dev01\\\\02_Databricks\\\\Gemini_Generated_Image_ngbmsyngbmsyngbm.png', 'C://dev01\\\\02_Databricks\\\\lakehouse.png']\n"
     ]
    }
   ],
   "source": [
    "import glob\n",
    "python_files = glob.glob('C://dev01/**/*.png')\n",
    "print(python_files)\n",
    "# Output: ['script.py', 'test.py', 'main.py']"
   ]
  },
  {
   "cell_type": "code",
   "execution_count": null,
   "metadata": {},
   "outputs": [],
   "source": [
    "# Files starting with 'data' and ending with .csv\n",
    "data_files = glob.glob('data*.csv')\n",
    "\n",
    "# Files with single character difference\n",
    "files = glob.glob('file?.txt')  # Matches file1.txt, file2.txt, etc.\n",
    "\n",
    "# Files matching character range\n",
    "files = glob.glob('report[0-9].pdf')  # report0.pdf to report9.pdf"
   ]
  },
  {
   "cell_type": "code",
   "execution_count": 7,
   "id": "69cabb10",
   "metadata": {},
   "outputs": [
    {
     "data": {
      "text/plain": [
       "[]"
      ]
     },
     "execution_count": 7,
     "metadata": {},
     "output_type": "execute_result"
    }
   ],
   "source": [
    "glob.glob('*.log')"
   ]
  },
  {
   "cell_type": "code",
   "execution_count": null,
   "metadata": {},
   "outputs": [],
   "source": [
    "for file in glob.iglob('*.log'):\n",
    "    print(file)\n",
    "    # Process each file without loading all into memory"
   ]
  },
  {
   "cell_type": "code",
   "execution_count": null,
   "metadata": {},
   "outputs": [],
   "source": [
    "\n",
    "import shutil\n",
    "shutil.copy('source.txt', 'destination.txt')\n",
    "# Returns path to destination file"
   ]
  },
  {
   "cell_type": "code",
   "execution_count": null,
   "id": "4920e493",
   "metadata": {},
   "outputs": [],
   "source": [
    "# Ignore certain patterns\n",
    "shutil.copytree('source_dir', 'dest_dir', \n",
    "                ignore=shutil.ignore_patterns('*.pyc', 'tmp*'))"
   ]
  },
  {
   "cell_type": "code",
   "execution_count": 10,
   "id": "cc32d7c8",
   "metadata": {},
   "outputs": [
    {
     "name": "stdout",
     "output_type": "stream",
     "text": [
      "1\n",
      "010\n"
     ]
    }
   ],
   "source": [
    "def solve():\n",
    "    n, k = map(int, input().split())\n",
    "    s = input().strip()\n",
    "    r = input().strip()\n",
    "    \n",
    "    # dp[i][bit][consecutive] = minimum flips needed\n",
    "    INF = float('inf')\n",
    "    dp = [[[INF for _ in range(k + 1)] for _ in range(2)] for _ in range(n)]\n",
    "    \n",
    "    # parent[i][bit][consecutive] = (prev_bit, prev_consecutive) to reconstruct path\n",
    "    parent = [[[None for _ in range(k + 1)] for _ in range(2)] for _ in range(n)]\n",
    "    \n",
    "    # Base case: position 0\n",
    "    for bit in range(2):\n",
    "        if s[0] != '?' and int(s[0]) != bit:\n",
    "            continue\n",
    "        \n",
    "        flips = 0 if str(bit) == r[0] else 1\n",
    "        dp[0][bit][1] = flips\n",
    "        parent[0][bit][1] = None\n",
    "    \n",
    "    # Fill DP table\n",
    "    for i in range(1, n):\n",
    "        for curr_bit in range(2):\n",
    "            # Skip if this bit is fixed and doesn't match\n",
    "            if s[i] != '?' and int(s[i]) != curr_bit:\n",
    "                continue\n",
    "            \n",
    "            for curr_consecutive in range(1, k + 1):\n",
    "                # Try to extend previous sequence of same bit\n",
    "                if curr_consecutive > 1:\n",
    "                    prev_bit = curr_bit\n",
    "                    prev_consecutive = curr_consecutive - 1\n",
    "                    \n",
    "                    if dp[i-1][prev_bit][prev_consecutive] != INF:\n",
    "                        flips = 0 if str(curr_bit) == r[i] else 1\n",
    "                        new_flips = dp[i-1][prev_bit][prev_consecutive] + flips\n",
    "                        \n",
    "                        if new_flips < dp[i][curr_bit][curr_consecutive]:\n",
    "                            dp[i][curr_bit][curr_consecutive] = new_flips\n",
    "                            parent[i][curr_bit][curr_consecutive] = (prev_bit, prev_consecutive)\n",
    "                \n",
    "                # Try to switch from opposite bit\n",
    "                opp_bit = 1 - curr_bit\n",
    "                for prev_consecutive in range(1, k + 1):\n",
    "                    if dp[i-1][opp_bit][prev_consecutive] != INF:\n",
    "                        flips = 0 if str(curr_bit) == r[i] else 1\n",
    "                        new_flips = dp[i-1][opp_bit][prev_consecutive] + flips\n",
    "                        \n",
    "                        if new_flips < dp[i][curr_bit][1]:\n",
    "                            dp[i][curr_bit][1] = new_flips\n",
    "                            parent[i][curr_bit][1] = (opp_bit, prev_consecutive)\n",
    "    \n",
    "    # Find minimum flips at the end\n",
    "    min_flips = INF\n",
    "    best_bit = -1\n",
    "    best_consecutive = -1\n",
    "    \n",
    "    for bit in range(2):\n",
    "        for consecutive in range(1, k + 1):\n",
    "            if dp[n-1][bit][consecutive] < min_flips:\n",
    "                min_flips = dp[n-1][bit][consecutive]\n",
    "                best_bit = bit\n",
    "                best_consecutive = consecutive\n",
    "    \n",
    "    # Reconstruct the solution\n",
    "    result = [''] * n\n",
    "    curr_bit = best_bit\n",
    "    curr_consecutive = best_consecutive\n",
    "    i = n - 1\n",
    "    \n",
    "    while i >= 0:\n",
    "        result[i] = str(curr_bit)\n",
    "        \n",
    "        if i > 0:\n",
    "            prev_state = parent[i][curr_bit][curr_consecutive]\n",
    "            if prev_state is not None:\n",
    "                prev_bit, prev_consecutive = prev_state\n",
    "                curr_bit = prev_bit\n",
    "                curr_consecutive = prev_consecutive\n",
    "        i -= 1\n",
    "    \n",
    "    return min_flips, ''.join(result)\n",
    "\n",
    "# Main execution\n",
    "t = int(input())\n",
    "for _ in range(t):\n",
    "    min_flips, restored_signal = solve()\n",
    "    print(min_flips)\n",
    "    print(restored_signal)"
   ]
  },
  {
   "cell_type": "code",
   "execution_count": 11,
   "id": "fe6f55a4",
   "metadata": {},
   "outputs": [
    {
     "name": "stdout",
     "output_type": "stream",
     "text": [
      "inf\n",
      "\n"
     ]
    }
   ],
   "source": [
    "# Brute-force solution for validation (tries all possible assignments)\n",
    "def is_valid(s, k):\n",
    "    for i in range(len(s) - k + 1):\n",
    "        if all(s[i + j] == s[i] for j in range(k)):\n",
    "            return False\n",
    "    return True\n",
    "\n",
    "def solve_bf(n, k, s, r):\n",
    "    s = list(s)\n",
    "    min_flips = float('inf')\n",
    "    best_s = \"\"\n",
    "    \n",
    "    def backtrack(i, curr_s, flips):\n",
    "        nonlocal min_flips, best_s\n",
    "        if i == n:\n",
    "            if is_valid(curr_s, k):\n",
    "                if flips < min_flips:\n",
    "                    min_flips = flips\n",
    "                    best_s = ''.join(curr_s)\n",
    "            return\n",
    "        if s[i] != '?':\n",
    "            backtrack(i + 1, curr_s + [s[i]], flips + (1 if s[i] != r[i] else 0))\n",
    "        else:\n",
    "            for c in ['0', '1']:\n",
    "                backtrack(i + 1, curr_s + [c], flips + (1 if c != r[i] else 0))\n",
    "    \n",
    "    backtrack(0, [], 0)\n",
    "    return min_flips, best_s\n",
    "\n",
    "# Input reading\n",
    "t = int(input())\n",
    "for _ in range(t):\n",
    "    n, k = map(int, input().split())\n",
    "    s = input().strip()\n",
    "    r = input().strip()\n",
    "    flips, result = solve_bf(n, k, s, r)\n",
    "    print(flips)\n",
    "    print(result)"
   ]
  },
  {
   "cell_type": "code",
   "execution_count": null,
   "id": "2c1ad342",
   "metadata": {},
   "outputs": [],
   "source": []
  }
 ],
 "metadata": {
  "kernelspec": {
   "display_name": "Python 3",
   "language": "python",
   "name": "python3"
  },
  "language_info": {
   "codemirror_mode": {
    "name": "ipython",
    "version": 3
   },
   "file_extension": ".py",
   "mimetype": "text/x-python",
   "name": "python",
   "nbconvert_exporter": "python",
   "pygments_lexer": "ipython3",
   "version": "3.11.11"
  }
 },
 "nbformat": 4,
 "nbformat_minor": 5
}
