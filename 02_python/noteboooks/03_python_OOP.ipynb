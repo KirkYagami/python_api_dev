{
 "cells": [
  {
   "cell_type": "markdown",
   "id": "76edc9ca",
   "metadata": {},
   "source": [
    "##  Classes and Objects\n",
    "Object-Oriented Programming (OOP) is a programming paradigm that uses \"objects\" to design applications and computer programs. OOP allows for modeling real-world scenarios using classes and objects."
   ]
  },
  {
   "cell_type": "markdown",
   "id": "3d5a0473",
   "metadata": {},
   "source": [
    "\n",
    "### Core Principles of OOP\n",
    "\n",
    "1. **Encapsulation**: Bundling data and methods that operate on that data within a single unit (class) and restricting direct access to internal components.\n",
    "2. **Abstraction**: Hiding complex implementation details and exposing only essential features.\n",
    "3. **Inheritance**: Creating new classes based on existing ones to promote code reuse.\n",
    "4. **Polymorphism**: Allowing objects of different types to be treated as instances of a common superclass."
   ]
  },
  {
   "cell_type": "markdown",
   "id": "4c1839ce",
   "metadata": {},
   "source": [
    "### Why Use OOP?\n",
    "\n",
    "- **Modularity**: Code is organized into logical, self-contained units.\n",
    "- **Reusability**: Classes can be reused across different parts of an application or in other projects.\n",
    "- **Maintainability**: Changes to one part of the system have minimal impact on others.\n",
    "- **Scalability**: Easier to manage and extend large codebases."
   ]
  },
  {
   "cell_type": "markdown",
   "id": "f51740e5",
   "metadata": {},
   "source": [
    "## Class Definition\n",
    "\n",
    "A class is a blueprint or template for creating objects. It defines the structure (attributes) and behavior (methods) that its instances will possess.\n",
    "\n",
    "### Syntax\n",
    "\n",
    "```python\n",
    "class ClassName:\n",
    "    # Class body\n",
    "    pass\n",
    "```\n"
   ]
  },
  {
   "cell_type": "code",
   "execution_count": 4,
   "id": "f9512f5d",
   "metadata": {},
   "outputs": [],
   "source": [
    "class Rectangle:\n",
    "    pass\n",
    "\n",
    "# A class definition does not create an object; it only defines the structure for future objects.\n"
   ]
  },
  {
   "cell_type": "markdown",
   "id": "64ae57ef",
   "metadata": {},
   "source": [
    "## Objects and Instantiation\n",
    "\n",
    "An object is an instance of a class. Instantiation is the process of creating an object from a class.\n",
    "\n",
    "### Creating an Object"
   ]
  },
  {
   "cell_type": "code",
   "execution_count": 6,
   "metadata": {},
   "outputs": [
    {
     "data": {
      "text/plain": [
       "__main__.Rectangle"
      ]
     },
     "execution_count": 6,
     "metadata": {},
     "output_type": "execute_result"
    }
   ],
   "source": [
    "r1 = Rectangle()\n",
    "type(r1)"
   ]
  },
  {
   "cell_type": "markdown",
   "id": "75c8e67e",
   "metadata": {},
   "source": [
    "Each object has:\n",
    "- **Identity**: Unique in memory (use `id()` to inspect).\n",
    "- **State**: Represented by attributes (data).\n",
    "- **Behavior**: Defined by methods (functions)."
   ]
  },
  {
   "cell_type": "code",
   "execution_count": null,
   "id": "b77428b8",
   "metadata": {},
   "outputs": [
    {
     "data": {
      "text/plain": [
       "1794239726864"
      ]
     },
     "execution_count": 8,
     "metadata": {},
     "output_type": "execute_result"
    }
   ],
   "source": [
    "# State Machines \n",
    "\n",
    "id(r1)"
   ]
  },
  {
   "cell_type": "markdown",
   "id": "345c1b8d",
   "metadata": {},
   "source": [
    "## The `__init__` Method (Constructor)\n",
    "\n",
    "The `__init__` method is a special method in Python that initializes a newly created object. It is automatically called during instantiation.\n",
    "\n",
    "### Example"
   ]
  },
  {
   "cell_type": "code",
   "execution_count": 9,
   "id": "2588fe23",
   "metadata": {},
   "outputs": [],
   "source": [
    "class Dog:\n",
    "    def __init__(self, name, breed):\n",
    "        self.name = name\n",
    "        self.breed = breed\n",
    "        \n",
    "dog1 = Dog(\"Buddy\", \"Golden Retriever\")\n",
    "dog2 = Dog(\"Max\", \"Labrador\")"
   ]
  },
  {
   "cell_type": "code",
   "execution_count": 11,
   "id": "0ea00fdc",
   "metadata": {},
   "outputs": [
    {
     "name": "stdout",
     "output_type": "stream",
     "text": [
      "Buddy\n",
      "Labrador\n"
     ]
    },
    {
     "ename": "AttributeError",
     "evalue": "'Dog' object has no attribute 'age'",
     "output_type": "error",
     "traceback": [
      "\u001b[31m---------------------------------------------------------------------------\u001b[39m",
      "\u001b[31mAttributeError\u001b[39m                            Traceback (most recent call last)",
      "\u001b[36mCell\u001b[39m\u001b[36m \u001b[39m\u001b[32mIn[11]\u001b[39m\u001b[32m, line 3\u001b[39m\n\u001b[32m      1\u001b[39m \u001b[38;5;28mprint\u001b[39m(dog1.name) \n\u001b[32m      2\u001b[39m \u001b[38;5;28mprint\u001b[39m(dog2.breed)\n\u001b[32m----> \u001b[39m\u001b[32m3\u001b[39m \u001b[38;5;28mprint\u001b[39m(\u001b[43mdog2\u001b[49m\u001b[43m.\u001b[49m\u001b[43mage\u001b[49m)\n",
      "\u001b[31mAttributeError\u001b[39m: 'Dog' object has no attribute 'age'"
     ]
    }
   ],
   "source": [
    "print(dog1.name) \n",
    "print(dog2.breed)\n",
    "print(dog2.age)\n"
   ]
  },
  {
   "cell_type": "markdown",
   "id": "e67b829e",
   "metadata": {},
   "source": [
    "> The `self` parameter refers to the current instance of the class and must be the first parameter in any instance method.\n"
   ]
  },
  {
   "cell_type": "code",
   "execution_count": null,
   "id": "6fa0b201",
   "metadata": {},
   "outputs": [
    {
     "name": "stdout",
     "output_type": "stream",
     "text": [
      "init was called\n"
     ]
    }
   ],
   "source": [
    "class Dog2:\n",
    "    def __init__(self):\n",
    "        print(\"init was called\")\n",
    "    \n",
    "    \n",
    "\n",
    "d = Dog2()\n",
    "\n",
    "\n",
    "class Dog2:\n",
    "    def __init__(): # \n",
    "        print(\"init was called\")\n",
    "\n",
    "d = Dog2()"
   ]
  },
  {
   "cell_type": "markdown",
   "id": "2fee83f1",
   "metadata": {},
   "source": [
    "\n",
    "\n",
    "## Instance Variables vs. Class Variables\n",
    "\n",
    "### Instance Variables\n",
    "\n",
    "- Defined within methods (typically `__init__`).\n",
    "- Unique to each instance.\n",
    "- Accessed via `self.attribute`.\n",
    "\n",
    "### Class Variables\n",
    "\n",
    "- Defined at the class level (outside any method).\n",
    "- Shared among all instances of the class.\n",
    "- Accessed via `ClassName.attribute` or `self.attribute` (with caution).\n"
   ]
  },
  {
   "cell_type": "code",
   "execution_count": null,
   "id": "63a8b237",
   "metadata": {},
   "outputs": [],
   "source": [
    "class Dog:\n",
    "    species = \"Canis lupus familiaris\"\n",
    "    def __init__(self, name, breed):\n",
    "        self.name = name\n",
    "        self.breed = breed\n",
    " \n",
    "    def name(self):\n",
    "        pass\n",
    "\n",
    "  \n",
    "dog1 = Dog(\"Buddy\", \"Golden Retriever\")\n",
    "dog2 = Dog(\"Max\", \"Labrador\")"
   ]
  },
  {
   "cell_type": "code",
   "execution_count": 28,
   "id": "c0a8f2dd",
   "metadata": {},
   "outputs": [
    {
     "data": {
      "text/plain": [
       "'Canis lupus familiaris'"
      ]
     },
     "execution_count": 28,
     "metadata": {},
     "output_type": "execute_result"
    }
   ],
   "source": [
    "Dog.species"
   ]
  },
  {
   "cell_type": "code",
   "execution_count": 17,
   "id": "5197fc36",
   "metadata": {},
   "outputs": [
    {
     "data": {
      "text/plain": [
       "'Canis lupus familiaris'"
      ]
     },
     "execution_count": 17,
     "metadata": {},
     "output_type": "execute_result"
    }
   ],
   "source": [
    "dog1.species"
   ]
  },
  {
   "cell_type": "code",
   "execution_count": 18,
   "id": "22efb731",
   "metadata": {},
   "outputs": [],
   "source": [
    "dog1.species = \"Tommy\""
   ]
  },
  {
   "cell_type": "code",
   "execution_count": 25,
   "id": "f4c8511e",
   "metadata": {},
   "outputs": [
    {
     "name": "stdout",
     "output_type": "stream",
     "text": [
      "Canis lupus familiaris\n",
      "Canis lupus familiaris\n",
      "Domestic Dog\n",
      "My Custom Species\n",
      "Domestic Dog\n"
     ]
    }
   ],
   "source": [
    "class Dog:\n",
    "    species = \"Canis lupus familiaris\"  # Class variable\n",
    "\n",
    "    def __init__(self, name, breed):\n",
    "        self.name = name   # Instance variable\n",
    "        self.breed = breed # Instance variable\n",
    "\n",
    "dog1 = Dog(\"Buddy\", \"Golden Retriever\")\n",
    "dog2 = Dog(\"Max\", \"Labrador\")\n",
    "\n",
    "print(dog1.species)  # Canis lupus familiaris\n",
    "print(dog2.species)  # Canis lupus familiaris\n",
    "\n",
    "# Modifying class variable affects all instances\n",
    "Dog.species = \"Domestic Dog\"\n",
    "print(dog1.species)  # Domestic Dog\n",
    "\n",
    "# Assigning to self creates an instance variable (shadows class variable)\n",
    "dog1.species = \"My Custom Species\"\n",
    "print(dog1.species)  # My Custom Species (instance variable)\n",
    "print(dog2.species)  # Domestic Dog (class variable)"
   ]
  },
  {
   "cell_type": "markdown",
   "id": "29b7920a",
   "metadata": {},
   "source": [
    "\n",
    "## Methods in Python Classes\n",
    "\n",
    "Methods are functions defined inside a class that define the behavior of its instances.\n",
    "\n",
    "### Types of Methods\n",
    "\n",
    "1. **Instance Methods**\n",
    "2. **Class Methods**\n",
    "3. **Static Methods**\n",
    "\n",
    "### Instance Methods\n",
    "\n",
    "- Operate on an instance of the class.\n",
    "- First parameter is `self`."
   ]
  },
  {
   "cell_type": "code",
   "execution_count": null,
   "id": "18e15d3c",
   "metadata": {},
   "outputs": [
    {
     "name": "stdout",
     "output_type": "stream",
     "text": [
      "Buddy says Woof!\n"
     ]
    }
   ],
   "source": [
    "class Dog:\n",
    "    def __init__(self, name):\n",
    "        self.name = name\n",
    "    def bark(self):\n",
    "        return f\"{self.name} says Woof!\"\n",
    "\n",
    "dog = Dog(\"Buddy\")\n",
    "\n",
    "\n",
    "print(dog.bark())  # Buddy says Woof!"
   ]
  },
  {
   "cell_type": "markdown",
   "id": "4eca2fd7",
   "metadata": {},
   "source": [
    "### Class Methods\n",
    "\n",
    "- Decorated with `@classmethod`.\n",
    "- First parameter is `cls` (refers to the class).\n",
    "- Used for alternative constructors or modifying class state."
   ]
  },
  {
   "cell_type": "code",
   "execution_count": 34,
   "id": "b879501d",
   "metadata": {},
   "outputs": [],
   "source": [
    "class Dog:\n",
    "    species = \"Canis lupus familiaris\"\n",
    "\n",
    "    def __init__(self, name, breed):\n",
    "        self.name = name\n",
    "        self.breed = breed\n",
    "\n",
    "    @classmethod\n",
    "    def from_string(cls, dog_str):\n",
    "        name, breed = dog_str.split('-')\n",
    "        return cls(name, breed)\n",
    "\n",
    "    @classmethod\n",
    "    def set_species(cls, new_species):\n",
    "        cls.species = new_species\n",
    "    \n",
    "    def bark(self):\n",
    "        print(f\"{self.name} is barking\")\n",
    "\n",
    "# Usage\n",
    "dog = Dog.from_string(\"Max-Labrador\")\n",
    "Dog.set_species(\"Domestic Dog\")"
   ]
  },
  {
   "cell_type": "code",
   "execution_count": 36,
   "id": "23e7021a",
   "metadata": {},
   "outputs": [
    {
     "name": "stdout",
     "output_type": "stream",
     "text": [
      "Max is barking\n"
     ]
    }
   ],
   "source": [
    "Dog.bark(dog)"
   ]
  },
  {
   "cell_type": "markdown",
   "id": "940960c4",
   "metadata": {},
   "source": [
    "### Static Methods\n",
    "\n",
    "- Decorated with `@staticmethod`.\n",
    "- No `self` or `cls` parameter.\n",
    "- Behave like regular functions but belong to the class namespace.\n",
    "\n"
   ]
  },
  {
   "cell_type": "code",
   "execution_count": null,
   "id": "b1f9c40d",
   "metadata": {},
   "outputs": [
    {
     "name": "stdout",
     "output_type": "stream",
     "text": [
      "8\n",
      "True\n"
     ]
    }
   ],
   "source": [
    "class MathUtils:\n",
    "    @staticmethod\n",
    "    def add(x, y):\n",
    "        return x + y  \n",
    "\n",
    "    @staticmethod\n",
    "    def is_even(n):\n",
    "        return n % 2 == 0\n",
    "    \n",
    "print(MathUtils.add(3, 5))      # 8\n",
    "print(MathUtils.is_even(4))     # True\n"
   ]
  },
  {
   "cell_type": "code",
   "execution_count": 4,
   "id": "d9248f40",
   "metadata": {},
   "outputs": [
    {
     "ename": "TypeError",
     "evalue": "MathUtils.is_even() takes 1 positional argument but 2 were given",
     "output_type": "error",
     "traceback": [
      "\u001b[31m---------------------------------------------------------------------------\u001b[39m",
      "\u001b[31mTypeError\u001b[39m                                 Traceback (most recent call last)",
      "\u001b[36mCell\u001b[39m\u001b[36m \u001b[39m\u001b[32mIn[4]\u001b[39m\u001b[32m, line 2\u001b[39m\n\u001b[32m      1\u001b[39m mu = MathUtils()\n\u001b[32m----> \u001b[39m\u001b[32m2\u001b[39m \u001b[43mmu\u001b[49m\u001b[43m.\u001b[49m\u001b[43mis_even\u001b[49m\u001b[43m(\u001b[49m\u001b[32;43m2\u001b[39;49m\u001b[43m)\u001b[49m\n",
      "\u001b[31mTypeError\u001b[39m: MathUtils.is_even() takes 1 positional argument but 2 were given"
     ]
    }
   ],
   "source": [
    "mu = MathUtils()\n",
    "mu.is_even(2)"
   ]
  },
  {
   "cell_type": "code",
   "execution_count": null,
   "id": "ea867943",
   "metadata": {},
   "outputs": [],
   "source": []
  },
  {
   "cell_type": "code",
   "execution_count": null,
   "id": "14fb8538",
   "metadata": {},
   "outputs": [
    {
     "data": {
      "text/plain": [
       "5"
      ]
     },
     "execution_count": 74,
     "metadata": {},
     "output_type": "execute_result"
    }
   ],
   "source": [
    "mu = MathUtils()\n",
    "mu.add(2,3)"
   ]
  },
  {
   "cell_type": "code",
   "execution_count": null,
   "id": "aca7ae54",
   "metadata": {},
   "outputs": [
    {
     "ename": "TypeError",
     "evalue": "MathUtils.is_even() takes 1 positional argument but 2 were given",
     "output_type": "error",
     "traceback": [
      "\u001b[31m---------------------------------------------------------------------------\u001b[39m",
      "\u001b[31mTypeError\u001b[39m                                 Traceback (most recent call last)",
      "\u001b[36mCell\u001b[39m\u001b[36m \u001b[39m\u001b[32mIn[75]\u001b[39m\u001b[32m, line 1\u001b[39m\n\u001b[32m----> \u001b[39m\u001b[32m1\u001b[39m \u001b[43mmu\u001b[49m\u001b[43m.\u001b[49m\u001b[43mis_even\u001b[49m\u001b[43m(\u001b[49m\u001b[32;43m3\u001b[39;49m\u001b[43m)\u001b[49m\n",
      "\u001b[31mTypeError\u001b[39m: MathUtils.is_even() takes 1 positional argument but 2 were given"
     ]
    }
   ],
   "source": [
    "mu.is_even(3) # this is still an instance method"
   ]
  },
  {
   "cell_type": "markdown",
   "id": "75fc7980",
   "metadata": {},
   "source": [
    "\n",
    "> **Use static methods** when the function is related to the class but does not need access to instance or class data.\n"
   ]
  },
  {
   "cell_type": "code",
   "execution_count": null,
   "id": "ad0b8756",
   "metadata": {},
   "outputs": [
    {
     "data": {
      "text/plain": [
       "<__main__.Dog at 0x1a1c105e550>"
      ]
     },
     "execution_count": 42,
     "metadata": {},
     "output_type": "execute_result"
    }
   ],
   "source": []
  },
  {
   "cell_type": "code",
   "execution_count": 44,
   "id": "6254abfa",
   "metadata": {},
   "outputs": [
    {
     "name": "stdout",
     "output_type": "stream",
     "text": [
      "<__main__.Rectangle object at 0x000001A1C105E990>\n"
     ]
    }
   ],
   "source": [
    "class Rectangle:\n",
    "    def __init__(self, width, height):\n",
    "        self.width = width\n",
    "        self.height = height \n",
    "\n",
    "r1 = Rectangle(10,5)\n",
    "print(r1)"
   ]
  },
  {
   "cell_type": "markdown",
   "id": "a0371742",
   "metadata": {},
   "source": [
    "We create **instances** of the `Rectangle` class by calling it with arguments that are passed to the `__init__` method as the second and third arguments. The first argument (`self`) is automatically filled in by Python and contains the object being created.\n",
    "\n",
    "Note that using `self` is just a convention (although a good one, and you should use it to make your code more understandable by others), you could really call it whatever (valid) name you choose.\n",
    "\n",
    "But just because you can, does not mean you should!"
   ]
  },
  {
   "cell_type": "code",
   "execution_count": null,
   "id": "5e3476d5",
   "metadata": {},
   "outputs": [],
   "source": [
    "print(r1)\n",
    "print(type(r1))\n",
    "\n",
    "# Rectangle(10,5)"
   ]
  },
  {
   "cell_type": "code",
   "execution_count": 48,
   "id": "430e9a3f",
   "metadata": {},
   "outputs": [
    {
     "data": {
      "text/plain": [
       "range(1, 100)"
      ]
     },
     "execution_count": 48,
     "metadata": {},
     "output_type": "execute_result"
    }
   ],
   "source": [
    "r = range(1,100)\n",
    "r"
   ]
  },
  {
   "cell_type": "code",
   "execution_count": 50,
   "id": "fec7e760",
   "metadata": {},
   "outputs": [
    {
     "name": "stdout",
     "output_type": "stream",
     "text": [
      "Rectangle (width=6, height=3)\n"
     ]
    }
   ],
   "source": [
    "class Rectangle:\n",
    "    def __init__(self, width, height):\n",
    "        self.width = width\n",
    "        self.height = height\n",
    "        \n",
    "    def area(self):\n",
    "        return self.width * self.height\n",
    "    \n",
    "    def perimeter(self):\n",
    "        return 2 * (self.width + self.height)\n",
    "    \n",
    "    def to_str(self):\n",
    "        return f'Rectangle (width={self.width}, height={self.height})'\n",
    "\n",
    "r1 = Rectangle(6,3)\n",
    "\n",
    "print(r1.to_str())"
   ]
  },
  {
   "cell_type": "code",
   "execution_count": 54,
   "id": "a291741a",
   "metadata": {},
   "outputs": [
    {
     "name": "stdout",
     "output_type": "stream",
     "text": [
      "Rectangle (width=6, height=3)\n"
     ]
    }
   ],
   "source": [
    "class Rectangle:\n",
    "    def __init__(self, width, height):\n",
    "        self.width = width\n",
    "        self.height = height\n",
    "        \n",
    "    def area(self):\n",
    "        return self.width * self.height\n",
    "    \n",
    "    def perimeter(self):\n",
    "        return 2 * (self.width + self.height)\n",
    "    \n",
    "    def __str__(self):\n",
    "        return f'Rectangle (width={self.width}, height={self.height})'\n",
    "\n",
    "    def __repr__(self):\n",
    "        return f'Rectangle (width={self.width}, height={self.height})'\n",
    "\n",
    "r1 = Rectangle(6,3)\n",
    "\n",
    "print(r1)"
   ]
  },
  {
   "cell_type": "code",
   "execution_count": 55,
   "id": "996ecb58",
   "metadata": {},
   "outputs": [
    {
     "name": "stdout",
     "output_type": "stream",
     "text": [
      "Rectangle (width=10, height=20)\n"
     ]
    }
   ],
   "source": [
    "r2 = Rectangle(10, 20)\n",
    "print(r2)"
   ]
  },
  {
   "cell_type": "code",
   "execution_count": 56,
   "id": "aff381af",
   "metadata": {},
   "outputs": [
    {
     "data": {
      "text/plain": [
       "Rectangle (width=10, height=20)"
      ]
     },
     "execution_count": 56,
     "metadata": {},
     "output_type": "execute_result"
    }
   ],
   "source": [
    "r2"
   ]
  },
  {
   "cell_type": "code",
   "execution_count": 57,
   "id": "7f6dc1b8",
   "metadata": {},
   "outputs": [
    {
     "data": {
      "text/plain": [
       "'10'"
      ]
     },
     "execution_count": 57,
     "metadata": {},
     "output_type": "execute_result"
    }
   ],
   "source": [
    "str(10)"
   ]
  },
  {
   "cell_type": "code",
   "execution_count": null,
   "id": "092229e3",
   "metadata": {},
   "outputs": [
    {
     "data": {
      "text/plain": [
       "'Rectangle (width=6, height=3)'"
      ]
     },
     "execution_count": 58,
     "metadata": {},
     "output_type": "execute_result"
    }
   ],
   "source": [
    "str(r1)"
   ]
  },
  {
   "cell_type": "code",
   "execution_count": 59,
   "id": "0a69c845",
   "metadata": {},
   "outputs": [
    {
     "data": {
      "text/plain": [
       "Rectangle (width=6, height=3)"
      ]
     },
     "execution_count": 59,
     "metadata": {},
     "output_type": "execute_result"
    }
   ],
   "source": [
    "r1"
   ]
  },
  {
   "cell_type": "code",
   "execution_count": 60,
   "id": "3266c51a",
   "metadata": {},
   "outputs": [
    {
     "data": {
      "text/plain": [
       "Rectangle (width=10, height=20)"
      ]
     },
     "execution_count": 60,
     "metadata": {},
     "output_type": "execute_result"
    }
   ],
   "source": [
    "r2"
   ]
  },
  {
   "cell_type": "code",
   "execution_count": 61,
   "id": "72086901",
   "metadata": {},
   "outputs": [
    {
     "ename": "TypeError",
     "evalue": "'<' not supported between instances of 'Rectangle' and 'Rectangle'",
     "output_type": "error",
     "traceback": [
      "\u001b[31m---------------------------------------------------------------------------\u001b[39m",
      "\u001b[31mTypeError\u001b[39m                                 Traceback (most recent call last)",
      "\u001b[36mCell\u001b[39m\u001b[36m \u001b[39m\u001b[32mIn[61]\u001b[39m\u001b[32m, line 1\u001b[39m\n\u001b[32m----> \u001b[39m\u001b[32m1\u001b[39m \u001b[43mr1\u001b[49m\u001b[43m \u001b[49m\u001b[43m<\u001b[49m\u001b[43m \u001b[49m\u001b[43mr2\u001b[49m\n",
      "\u001b[31mTypeError\u001b[39m: '<' not supported between instances of 'Rectangle' and 'Rectangle'"
     ]
    }
   ],
   "source": [
    "r1 < r2"
   ]
  },
  {
   "cell_type": "code",
   "execution_count": 68,
   "id": "9c7aeef3",
   "metadata": {},
   "outputs": [],
   "source": [
    "class Rectangle:\n",
    "    def __init__(self, width, height):\n",
    "        self.width = width\n",
    "        self.height = height\n",
    "        \n",
    "    def area(self):\n",
    "        return self.width * self.height\n",
    "    \n",
    "    def perimeter(self):\n",
    "        return 2 * (self.width + self.height)\n",
    "\n",
    "    def __str__(self):\n",
    "        return 'Rectangle (width={0}, height={1})'.format(self.width, self.height)\n",
    "    \n",
    "    def __repr__(self):\n",
    "        return 'Rectangle({0}, {1})'.format(self.width, self.height)\n",
    "    \n",
    "    def __eq__(self, other):\n",
    "        print(f'self={self}, other={other}')\n",
    "        if isinstance(other, Rectangle):\n",
    "            return (self.width, self.height) == (other.width, other.height)\n",
    "        else:\n",
    "            return False"
   ]
  },
  {
   "cell_type": "code",
   "execution_count": null,
   "id": "eb0135a3",
   "metadata": {},
   "outputs": [],
   "source": [
    "r1 == r2"
   ]
  },
  {
   "cell_type": "code",
   "execution_count": 69,
   "id": "41eaf81c",
   "metadata": {},
   "outputs": [],
   "source": [
    "r1 = Rectangle(10, 5)\n",
    "r2 = Rectangle(10, 5)\n"
   ]
  },
  {
   "cell_type": "code",
   "execution_count": 71,
   "id": "8b410c87",
   "metadata": {},
   "outputs": [
    {
     "name": "stdout",
     "output_type": "stream",
     "text": [
      "self=Rectangle (width=10, height=5), other=(10, 5)\n"
     ]
    },
    {
     "data": {
      "text/plain": [
       "False"
      ]
     },
     "execution_count": 71,
     "metadata": {},
     "output_type": "execute_result"
    }
   ],
   "source": [
    "r1 == (10,5)"
   ]
  },
  {
   "cell_type": "code",
   "execution_count": 65,
   "id": "7f0de35f",
   "metadata": {},
   "outputs": [
    {
     "data": {
      "text/plain": [
       "False"
      ]
     },
     "execution_count": 65,
     "metadata": {},
     "output_type": "execute_result"
    }
   ],
   "source": [
    "r1 == r2"
   ]
  },
  {
   "cell_type": "code",
   "execution_count": 67,
   "id": "914d434c",
   "metadata": {},
   "outputs": [
    {
     "data": {
      "text/plain": [
       "False"
      ]
     },
     "execution_count": 67,
     "metadata": {},
     "output_type": "execute_result"
    }
   ],
   "source": [
    "(10, 8) == (10, 5)"
   ]
  },
  {
   "cell_type": "code",
   "execution_count": null,
   "id": "eafff8ae",
   "metadata": {},
   "outputs": [
    {
     "data": {
      "text/plain": [
       "Rectangle(10, 5)"
      ]
     },
     "execution_count": 72,
     "metadata": {},
     "output_type": "execute_result"
    }
   ],
   "source": [
    "print(r1)"
   ]
  },
  {
   "cell_type": "code",
   "execution_count": null,
   "id": "0db7719c",
   "metadata": {},
   "outputs": [],
   "source": []
  }
 ],
 "metadata": {
  "kernelspec": {
   "display_name": "Python 3",
   "language": "python",
   "name": "python3"
  },
  "language_info": {
   "codemirror_mode": {
    "name": "ipython",
    "version": 3
   },
   "file_extension": ".py",
   "mimetype": "text/x-python",
   "name": "python",
   "nbconvert_exporter": "python",
   "pygments_lexer": "ipython3",
   "version": "3.11.11"
  }
 },
 "nbformat": 4,
 "nbformat_minor": 5
}
