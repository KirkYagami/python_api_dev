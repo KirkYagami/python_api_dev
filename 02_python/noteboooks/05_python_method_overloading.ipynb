{
 "cells": [
  {
   "cell_type": "markdown",
   "id": "6da172a5",
   "metadata": {},
   "source": [
    "\n",
    "## Function Overloading\n",
    "\n",
    "### Theory\n",
    "\n",
    "**Function Overloading** means having multiple functions with the same name but different parameters. Python doesn't support traditional function overloading like Java or C++. However, we can achieve similar behavior using:\n",
    "\n",
    "- Default arguments\n",
    "- Variable-length arguments (`*args`, `**kwargs`)\n",
    "- Type checking and dispatching\n",
    "- The `functools.singledispatch` decorator"
   ]
  },
  {
   "cell_type": "markdown",
   "id": "6f3bb3ec",
   "metadata": {},
   "source": []
  },
  {
   "cell_type": "code",
   "execution_count": 1,
   "id": "35f6b892",
   "metadata": {},
   "outputs": [
    {
     "name": "stdout",
     "output_type": "stream",
     "text": [
      "5\n",
      "8\n",
      "10\n",
      "11\n"
     ]
    }
   ],
   "source": [
    "class Calculator:\n",
    "    def add(self, a, b=0, c=0, d=0):\n",
    "        \"\"\"Simulate overloading with default arguments\"\"\"\n",
    "        return a + b + c + d\n",
    "\n",
    "calc = Calculator()\n",
    "print(calc.add(5))              # 5\n",
    "print(calc.add(5, 3))           # 8\n",
    "print(calc.add(5, 3, 2))        # 10\n",
    "print(calc.add(5, 3, 2, 1))     # 11"
   ]
  },
  {
   "cell_type": "markdown",
   "id": "c2aa5acf",
   "metadata": {},
   "source": [
    "#### Using `*args` and `**kwargs`"
   ]
  },
  {
   "cell_type": "code",
   "execution_count": 2,
   "metadata": {},
   "outputs": [
    {
     "name": "stdout",
     "output_type": "stream",
     "text": [
      "Nothing to print\n",
      "Printing single item: Hello\n",
      "Printing multiple items:\n",
      "1. Hello\n",
      "2. World\n",
      "3. Python\n",
      "Additional info:\n",
      "  author: Alice\n",
      "  date: 2024\n",
      "\n"
     ]
    }
   ],
   "source": [
    "class Printer:\n",
    "    def print_data(self, *args, **kwargs):\n",
    "        \"\"\"Flexible method accepting any number of arguments\"\"\"\n",
    "        if len(args) == 0:\n",
    "            return \"Nothing to print\"\n",
    "        elif len(args) == 1:\n",
    "            return f\"Printing single item: {args[0]}\"\n",
    "        else:\n",
    "            result = \"Printing multiple items:\\n\"\n",
    "            for i, item in enumerate(args, 1):\n",
    "                result += f\"{i}. {item}\\n\"\n",
    "            \n",
    "            if kwargs:\n",
    "                result += \"Additional info:\\n\"\n",
    "                for key, value in kwargs.items():\n",
    "                    result += f\"  {key}: {value}\\n\"\n",
    "            \n",
    "            return result\n",
    "\n",
    "printer = Printer()\n",
    "print(printer.print_data())\n",
    "print(printer.print_data(\"Hello\"))\n",
    "print(printer.print_data(\"Hello\", \"World\", \"Python\", \n",
    "                        author=\"Alice\", date=\"2024\"))"
   ]
  },
  {
   "cell_type": "markdown",
   "id": "668fd720",
   "metadata": {},
   "source": [
    "#### Using functools.singledispatchmethod (Advanced)"
   ]
  },
  {
   "cell_type": "code",
   "execution_count": 3,
   "id": "e7b5357d",
   "metadata": {},
   "outputs": [
    {
     "name": "stdout",
     "output_type": "stream",
     "text": [
      "Square area: 25\n",
      "Circle area: 78.53975\n",
      "Rectangle area: 24\n",
      "Triangle area: 12.0\n"
     ]
    }
   ],
   "source": [
    "from functools import singledispatchmethod\n",
    "\n",
    "class GeometryCalculator:\n",
    "    @singledispatchmethod\n",
    "    def area(self, shape):\n",
    "        raise NotImplementedError(f\"Cannot calculate area for {type(shape)}\")\n",
    "    \n",
    "    @area.register(int)\n",
    "    def _(self, side):\n",
    "        return side ** 2\n",
    "    \n",
    "    @area.register(float)\n",
    "    def _(self, radius):\n",
    "        return 3.14159 * radius ** 2\n",
    "    \n",
    "    @area.register(list)\n",
    "    def _(self, dimensions):\n",
    "        if len(dimensions) == 2:\n",
    "            return dimensions[0] * dimensions[1]\n",
    "        raise ValueError(\"List must contain exactly 2 elements\")\n",
    "    \n",
    "    @area.register(tuple)\n",
    "    def _(self, dimensions):\n",
    "        if len(dimensions) == 2:\n",
    "            return 0.5 * dimensions[0] * dimensions[1]\n",
    "        raise ValueError(\"Tuple must contain exactly 2 elements\")\n",
    "\n",
    "calc = GeometryCalculator()\n",
    "print(f\"Square area: {calc.area(5)}\")\n",
    "print(f\"Circle area: {calc.area(5.0)}\")\n",
    "print(f\"Rectangle area: {calc.area([4, 6])}\")\n",
    "print(f\"Triangle area: {calc.area((4, 6))}\")\n",
    "\n",
    "# print(f\"Triangle area: {calc.area({1,2})}\") # thorws the error"
   ]
  },
  {
   "cell_type": "code",
   "execution_count": 4,
   "id": "cf78419d",
   "metadata": {},
   "outputs": [
    {
     "ename": "NotImplementedError",
     "evalue": "Cannot calculate area for <class 'set'>",
     "output_type": "error",
     "traceback": [
      "\u001b[31m---------------------------------------------------------------------------\u001b[39m",
      "\u001b[31mNotImplementedError\u001b[39m                       Traceback (most recent call last)",
      "\u001b[36mCell\u001b[39m\u001b[36m \u001b[39m\u001b[32mIn[4]\u001b[39m\u001b[32m, line 1\u001b[39m\n\u001b[32m----> \u001b[39m\u001b[32m1\u001b[39m \u001b[38;5;28mprint\u001b[39m(\u001b[33mf\u001b[39m\u001b[33m\"\u001b[39m\u001b[33mTriangle area: \u001b[39m\u001b[38;5;132;01m{\u001b[39;00m\u001b[43mcalc\u001b[49m\u001b[43m.\u001b[49m\u001b[43marea\u001b[49m\u001b[43m(\u001b[49m\u001b[43m{\u001b[49m\u001b[32;43m1\u001b[39;49m\u001b[43m,\u001b[49m\u001b[32;43m2\u001b[39;49m\u001b[43m}\u001b[49m\u001b[43m)\u001b[49m\u001b[38;5;132;01m}\u001b[39;00m\u001b[33m\"\u001b[39m) \u001b[38;5;66;03m# thorws the error\u001b[39;00m\n",
      "\u001b[36mFile \u001b[39m\u001b[32mc:\\Users\\NikhilSharma\\.conda\\envs\\llms2\\Lib\\functools.py:946\u001b[39m, in \u001b[36msingledispatchmethod.__get__.<locals>._method\u001b[39m\u001b[34m(*args, **kwargs)\u001b[39m\n\u001b[32m    944\u001b[39m \u001b[38;5;28;01mdef\u001b[39;00m\u001b[38;5;250m \u001b[39m\u001b[34m_method\u001b[39m(*args, **kwargs):\n\u001b[32m    945\u001b[39m     method = \u001b[38;5;28mself\u001b[39m.dispatcher.dispatch(args[\u001b[32m0\u001b[39m].\u001b[34m__class__\u001b[39m)\n\u001b[32m--> \u001b[39m\u001b[32m946\u001b[39m     \u001b[38;5;28;01mreturn\u001b[39;00m \u001b[43mmethod\u001b[49m\u001b[43m.\u001b[49m\u001b[34;43m__get__\u001b[39;49m\u001b[43m(\u001b[49m\u001b[43mobj\u001b[49m\u001b[43m,\u001b[49m\u001b[43m \u001b[49m\u001b[38;5;28;43mcls\u001b[39;49m\u001b[43m)\u001b[49m\u001b[43m(\u001b[49m\u001b[43m*\u001b[49m\u001b[43margs\u001b[49m\u001b[43m,\u001b[49m\u001b[43m \u001b[49m\u001b[43m*\u001b[49m\u001b[43m*\u001b[49m\u001b[43mkwargs\u001b[49m\u001b[43m)\u001b[49m\n",
      "\u001b[36mCell\u001b[39m\u001b[36m \u001b[39m\u001b[32mIn[3]\u001b[39m\u001b[32m, line 6\u001b[39m, in \u001b[36mGeometryCalculator.area\u001b[39m\u001b[34m(self, shape)\u001b[39m\n\u001b[32m      4\u001b[39m \u001b[38;5;129m@singledispatchmethod\u001b[39m\n\u001b[32m      5\u001b[39m \u001b[38;5;28;01mdef\u001b[39;00m\u001b[38;5;250m \u001b[39m\u001b[34marea\u001b[39m(\u001b[38;5;28mself\u001b[39m, shape):\n\u001b[32m----> \u001b[39m\u001b[32m6\u001b[39m     \u001b[38;5;28;01mraise\u001b[39;00m \u001b[38;5;167;01mNotImplementedError\u001b[39;00m(\u001b[33mf\u001b[39m\u001b[33m\"\u001b[39m\u001b[33mCannot calculate area for \u001b[39m\u001b[38;5;132;01m{\u001b[39;00m\u001b[38;5;28mtype\u001b[39m(shape)\u001b[38;5;132;01m}\u001b[39;00m\u001b[33m\"\u001b[39m)\n",
      "\u001b[31mNotImplementedError\u001b[39m: Cannot calculate area for <class 'set'>"
     ]
    }
   ],
   "source": [
    "print(f\"Triangle area: {calc.area({1,2})}\") # thorws the error"
   ]
  },
  {
   "cell_type": "markdown",
   "id": "be3d958e",
   "metadata": {},
   "source": [
    "\n",
    "## 5. Operator Overloading\n",
    "\n",
    "### Theory\n",
    "\n",
    "**Operator Overloading** allows us to define how operators `(+, -, *, /, ==, <, etc.)` work with objects of our custom classes. This is done by implementing special methods (also called magic methods or dunder methods).\n",
    "\n",
    "**Common Operator Overloading Methods:**\n",
    "\n",
    "- `__add__(self, other)` for `+`\n",
    "- `__sub__(self, other)` for `-`\n",
    "- `__mul__(self, other)` for *\n",
    "- `__truediv__(self, other)` for` /`\n",
    "- `__eq__(self, other)` for `==`\n",
    "- `__lt__(self, other)` for `<`\n",
    "- `__gt__(self, other)` for `>`\n",
    "- `__len__(self)` for `len()`\n",
    "- `__getitem__(self, key)` for` []`\n",
    "- `__str__(self)` for `str()`\n",
    "\n",
    "### Code Examples\n",
    "\n",
    "#### Basic Arithmetic Operators"
   ]
  },
  {
   "cell_type": "code",
   "execution_count": null,
   "id": "872b8057",
   "metadata": {},
   "outputs": [],
   "source": [
    "v1 + v2"
   ]
  },
  {
   "cell_type": "code",
   "execution_count": 5,
   "id": "2786d7a9",
   "metadata": {},
   "outputs": [
    {
     "name": "stdout",
     "output_type": "stream",
     "text": [
      "v1 + v2 = Vector(4, 6)\n",
      "v1 - v2 = Vector(2, 2)\n",
      "v1 * 3 = Vector(9, 12)\n",
      "v1 / 2 = Vector(1.5, 2.0)\n"
     ]
    }
   ],
   "source": [
    "class Vector:\n",
    "    def __init__(self, x, y):\n",
    "        self.x = x\n",
    "        self.y = y\n",
    "    \n",
    "    def __add__(self, other):\n",
    "        \"\"\"Overload + operator\"\"\"\n",
    "        if isinstance(other, Vector):\n",
    "            return Vector(self.x + other.x, self.y + other.y)\n",
    "        raise TypeError(\"Can only add Vector to Vector\")\n",
    "    \n",
    "    def __sub__(self, other):\n",
    "        \"\"\"Overload - operator\"\"\"\n",
    "        if isinstance(other, Vector):\n",
    "            return Vector(self.x - other.x, self.y - other.y)\n",
    "        raise TypeError(\"Can only subtract Vector from Vector\")\n",
    "    \n",
    "    def __mul__(self, scalar):\n",
    "        \"\"\"Overload * operator (scalar multiplication)\"\"\"\n",
    "        if isinstance(scalar, (int, float)):\n",
    "            return Vector(self.x * scalar, self.y * scalar)\n",
    "        raise TypeError(\"Can only multiply Vector by a scalar\")\n",
    "    \n",
    "    def __truediv__(self, scalar):\n",
    "        \"\"\"Overload / operator\"\"\"\n",
    "        if isinstance(scalar, (int, float)):\n",
    "            if scalar == 0:\n",
    "                raise ValueError(\"Cannot divide by zero\")\n",
    "            return Vector(self.x / scalar, self.y / scalar)\n",
    "        raise TypeError(\"Can only divide Vector by a scalar\")\n",
    "    \n",
    "    def __str__(self):\n",
    "        return f\"Vector({self.x}, {self.y})\"\n",
    "    \n",
    "    def __repr__(self):\n",
    "        return f\"Vector({self.x}, {self.y})\"\n",
    "\n",
    "# Using overloaded operators\n",
    "v1 = Vector(3, 4)\n",
    "v2 = Vector(1, 2)\n",
    "\n",
    "print(f\"v1 + v2 = {v1 + v2}\")      # Vector(4, 6)\n",
    "print(f\"v1 - v2 = {v1 - v2}\")      # Vector(2, 2)\n",
    "print(f\"v1 * 3 = {v1 * 3}\")        # Vector(9, 12)\n",
    "print(f\"v1 / 2 = {v1 / 2}\")        # Vector(1.5, 2.0)"
   ]
  },
  {
   "cell_type": "code",
   "execution_count": null,
   "id": "de790fce",
   "metadata": {},
   "outputs": [],
   "source": []
  }
 ],
 "metadata": {
  "kernelspec": {
   "display_name": "Python 3",
   "language": "python",
   "name": "python3"
  },
  "language_info": {
   "codemirror_mode": {
    "name": "ipython",
    "version": 3
   },
   "file_extension": ".py",
   "mimetype": "text/x-python",
   "name": "python",
   "nbconvert_exporter": "python",
   "pygments_lexer": "ipython3",
   "version": "3.11.11"
  }
 },
 "nbformat": 4,
 "nbformat_minor": 5
}
