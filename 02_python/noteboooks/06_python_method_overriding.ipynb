{
 "cells": [
  {
   "cell_type": "code",
   "execution_count": null,
   "id": "d9c76147",
   "metadata": {},
   "outputs": [],
   "source": []
  },
  {
   "cell_type": "markdown",
   "id": "b993cd13",
   "metadata": {},
   "source": [
    "## Method Overriding\n",
    "\n",
    "### Theory\n",
    "\n",
    "**Method Overriding** occurs when a child class provides a specific implementation of a method that is already defined in its parent class. The child class method \"overrides\" the parent class method.\n",
    "\n",
    "**Key Points:**\n",
    "\n",
    "- Same method name in both parent and child\n",
    "- Child method executes instead of parent method\n",
    "- Enables polymorphism\n",
    "- Can still access parent method using super()"
   ]
  },
  {
   "cell_type": "code",
   "execution_count": 1,
   "id": "b4574ef7",
   "metadata": {},
   "outputs": [],
   "source": [
    "class Shape:\n",
    "    def __init__(self, color):\n",
    "        self.color = color\n",
    "    \n",
    "    def area(self):\n",
    "        return 0\n",
    "    \n",
    "    def describe(self):\n",
    "        return f\"A {self.color} shape with area {self.area()}\"\n",
    "\n",
    "\n",
    "class Circle(Shape):\n",
    "    def __init__(self, color, radius):\n",
    "        super().__init__(color)\n",
    "        self.radius = radius\n",
    "    \n",
    "    # Overriding the area method\n",
    "    def area(self):\n",
    "        return 3.14159 * self.radius ** 2\n",
    "\n",
    "class Rectangle(Shape):\n",
    "    def __init__(self, color, width, height):\n",
    "        super().__init__(color)\n",
    "        self.width = width\n",
    "        self.height = height\n",
    "    # Overriding the area method\n",
    "    def area(self):\n",
    "        return self.width * self.height"
   ]
  },
  {
   "cell_type": "code",
   "execution_count": 2,
   "id": "453df360",
   "metadata": {},
   "outputs": [
    {
     "name": "stdout",
     "output_type": "stream",
     "text": [
      "78.53975\n",
      "24\n",
      "28.27431\n"
     ]
    }
   ],
   "source": [
    "shapes = [Circle(\"red\", 5),\n",
    "Rectangle(\"blue\", 4, 6),\n",
    "Circle(\"green\", 3)\n",
    "]\n",
    "\n",
    "for shape in shapes:\n",
    "    print(shape.area())"
   ]
  },
  {
   "cell_type": "code",
   "execution_count": 3,
   "id": "3ce96cfa",
   "metadata": {},
   "outputs": [
    {
     "name": "stdout",
     "output_type": "stream",
     "text": [
      "Employee: John, Salary: $50000\n",
      "Bonus: $5000.0\n",
      "Employee: Sarah, Salary: $80000, Team Size: 10\n",
      "Bonus: $9000.0\n"
     ]
    }
   ],
   "source": [
    "class Employee:\n",
    "    def __init__(self, name, salary):\n",
    "        self.name = name\n",
    "        self.salary = salary\n",
    "    \n",
    "    def display_info(self):\n",
    "        return f\"Employee: {self.name}, Salary: ${self.salary}\"\n",
    "    \n",
    "    def calculate_bonus(self):\n",
    "        return self.salary * 0.1\n",
    "\n",
    "class Manager(Employee):\n",
    "    def __init__(self, name, salary, team_size):\n",
    "        super().__init__(name, salary)\n",
    "        self.team_size = team_size\n",
    "\n",
    "    # Override and extend\n",
    "    def display_info(self):\n",
    "        base_info = super().display_info()\n",
    "        return f\"{base_info}, Team Size: {self.team_size}\"\n",
    "    \n",
    "    # Override with different logic\n",
    "    def calculate_bonus(self):\n",
    "        base_bonus = super().calculate_bonus()\n",
    "        team_bonus = self.team_size * 100\n",
    "        return base_bonus + team_bonus\n",
    "\n",
    "emp = Employee(\"John\", 50000)\n",
    "mgr = Manager(\"Sarah\", 80000, 10)\n",
    "\n",
    "print(emp.display_info())           # Employee: John, Salary: $50000\n",
    "print(f\"Bonus: ${emp.calculate_bonus()}\")  # Bonus: $5000.0\n",
    "\n",
    "print(mgr.display_info())           # Employee: Sarah, Salary: $80000, Team Size: 10\n",
    "print(f\"Bonus: ${mgr.calculate_bonus()}\")  # Bonus: $9000.0\n",
    "\n",
    "\n",
    "\n",
    "\n"
   ]
  },
  {
   "cell_type": "markdown",
   "id": "a2447a7d",
   "metadata": {},
   "source": [
    "\n",
    "## Special Methods (**str**, **repr**, etc.)\n",
    "\n",
    "### Theory\n",
    "\n",
    "**Special Methods** (magic methods/dunder methods) are methods with double underscores before and after their names. They allow you to define how objects of your class behave with built-in Python functions and operators.\n",
    "\n",
    "**Common Special Methods:**\n",
    "\n",
    "- `__init__`: Constructor\n",
    "- `__str__`: String representation for users (str())\n",
    "- `__repr__`: String representation for developers (repr())\n",
    "- `__len__`: Length (len())\n",
    "- `__bool__`: Boolean conversion (bool())\n",
    "- `__hash__`: Hash value (hash())\n",
    "- `__call__`: Make object callable\n",
    "- `__del__`: Destructor\n",
    "\n",
    "### Code Examples\n",
    "\n",
    "#### **str** vs **repr**"
   ]
  },
  {
   "cell_type": "code",
   "execution_count": 15,
   "id": "0b025b5f",
   "metadata": {},
   "outputs": [
    {
     "name": "stdout",
     "output_type": "stream",
     "text": [
      "\"1984\" by George Orwell (1949)\n",
      "Book('1984', 'George Orwell', 1949, '978-0451524935')\n",
      "\"1984\" by George Orwell (1949)\n"
     ]
    }
   ],
   "source": [
    "class Book:\n",
    "    def __init__(self, title, author, year, isbn):\n",
    "        self.title = title\n",
    "        self.author = author\n",
    "        self.year = year\n",
    "        self.isbn = isbn\n",
    "\n",
    "    \n",
    "    def __str__(self):\n",
    "        \"\"\"User-friendly string representation\"\"\"\n",
    "        return f'\"{self.title}\" by {self.author} ({self.year})'\n",
    "    \n",
    "    def __repr__(self):\n",
    "        \"\"\"Developer-friendly, unambiguous representation\"\"\"\n",
    "        return f\"Book('{self.title}', '{self.author}', {self.year}, '{self.isbn}')\"\n",
    "\n",
    "book = Book(\"1984\", \"George Orwell\", 1949, \"978-0451524935\")\n",
    "\n",
    "print(str(book))        # \"1984\" by George Orwell (1949)\n",
    "print(repr(book))       # Book('1984', 'George Orwell', 1949, '978-0451524935')\n",
    "print(book)             # Uses __str__ if defined, else __repr__\n"
   ]
  },
  {
   "cell_type": "markdown",
   "id": "ed53587a",
   "metadata": {},
   "source": [
    "\n",
    "#### **len**, **bool**, and **hash**"
   ]
  },
  {
   "cell_type": "code",
   "execution_count": null,
   "id": "4521032a",
   "metadata": {},
   "outputs": [],
   "source": []
  },
  {
   "cell_type": "code",
   "execution_count": 17,
   "id": "580d4a72",
   "metadata": {},
   "outputs": [
    {
     "name": "stdout",
     "output_type": "stream",
     "text": [
      "2\n",
      "True\n",
      "False\n",
      "Playlist has songs!\n",
      "My favorite songs\n"
     ]
    }
   ],
   "source": [
    "class Playlist:\n",
    "    def __init__(self, name, songs=None):\n",
    "        self.name = name\n",
    "        self.songs = songs if songs is not None else []\n",
    "    \n",
    "    def __len__(self):\n",
    "        \"\"\"Return number of songs\"\"\"\n",
    "        return len(self.songs)\n",
    "    \n",
    "    def __bool__(self):\n",
    "        \"\"\"Playlist is True if it has songs\"\"\"\n",
    "        return len(self.songs) > 0\n",
    "    \n",
    "    def __hash__(self):\n",
    "        \"\"\"Make playlist hashable (can be used as dict key)\"\"\"\n",
    "        # Hash based on name and number of songs\n",
    "        return hash((self.name, len(self.songs)))\n",
    "    \n",
    "    def __eq__(self, other):\n",
    "        \"\"\"Equality based on name and songs\"\"\"\n",
    "        if isinstance(other, Playlist):\n",
    "            return self.name == other.name and self.songs == other.songs\n",
    "        return False\n",
    "    \n",
    "    def __str__(self):\n",
    "        return f\"Playlist '{self.name}' with {len(self)} songs\"\n",
    "    \n",
    "    def add_song(self, song):\n",
    "        self.songs.append(song)\n",
    "\n",
    "# Using special methods\n",
    "playlist1 = Playlist(\"Favorites\", [\"Song A\", \"Song B\"])\n",
    "playlist2 = Playlist(\"Empty Playlist\")\n",
    "\n",
    "print(len(playlist1))           # 2\n",
    "print(bool(playlist1))          # True\n",
    "print(bool(playlist2))          # False\n",
    "\n",
    "if playlist1:\n",
    "    print(\"Playlist has songs!\")    # This will print\n",
    "\n",
    "# Using as dictionary key (requires __hash__ and __eq__)\n",
    "playlists = {playlist1: \"My favorite songs\"}\n",
    "print(playlists[playlist1])     # My favorite songs"
   ]
  },
  {
   "cell_type": "markdown",
   "id": "4d9f3163",
   "metadata": {},
   "source": [
    "## Slots"
   ]
  },
  {
   "cell_type": "markdown",
   "id": "ead9e9ba",
   "metadata": {},
   "source": [
    "Python’s `__slots__` is a simple yet powerful feature that is often overlooked and misunderstood by many. By default, Python stores instance attributes in a dictionary called `__dict__` that belongs to the instance itself. This common approach is associated with significant overhead. However, this behavior can be altered by defining a class attribute called `__slots__`.\n",
    "\n",
    "When `__slots__` is defined, Python uses an alternative storage model for instance attributes: the attributes are stored in a hidden array of references, which consumes significantly less memory than a dictionary. The `__slots__` attribute itself is a sequence of the instance attribute names. It must be present at the time of class declaration; adding or modifying it later has no effect."
   ]
  },
  {
   "cell_type": "markdown",
   "id": "fd39a71d",
   "metadata": {},
   "source": [
    "Attributes listed in `__slots__` behave just as if they were listed in `__dict__` - there’s no difference. However, `__dict__` is no longer used and attempting to access it will result in an error:"
   ]
  },
  {
   "cell_type": "code",
   "execution_count": 25,
   "id": "b6ddecc6",
   "metadata": {},
   "outputs": [],
   "source": [
    "import datetime\n",
    "\n",
    "class Book:\n",
    "    __slots__ = ('title', 'author', 'isbn', 'pub_date', 'rating')\n",
    "\n",
    "\n",
    "\n",
    "book = Book() # object of the class\n",
    "\n",
    "\n",
    "book.title = 'Learning Python'\n",
    "book.author = 'Mark Lutz'\n",
    "book.pub_date = datetime.date(2013, 7, 30)\n",
    "book.rating = 4.98"
   ]
  },
  {
   "cell_type": "code",
   "execution_count": 28,
   "id": "5e88538d",
   "metadata": {},
   "outputs": [
    {
     "data": {
      "text/plain": [
       "4.98"
      ]
     },
     "execution_count": 28,
     "metadata": {},
     "output_type": "execute_result"
    }
   ],
   "source": [
    "book.rating"
   ]
  },
  {
   "cell_type": "code",
   "execution_count": null,
   "id": "6f4cba57",
   "metadata": {},
   "outputs": [],
   "source": [
    "# This will raise AttributeError: 'Book' object has no attribute '__dict__'\n",
    "print(book.__dict__)"
   ]
  },
  {
   "cell_type": "markdown",
   "id": "76e7595d",
   "metadata": {},
   "source": [
    "So, what are the benefits of using __slots__ over the traditional __dict__? There are three main aspects:"
   ]
  },
  {
   "cell_type": "markdown",
   "id": "8e3e26bf",
   "metadata": {},
   "source": [
    "\n",
    "### I. Faster access to instance attributes\n",
    "\n",
    "This might be hard to notice in practice, but it is indeed the case.\n",
    "\n",
    "### II. Memory savings\n",
    "\n",
    "This is probably the main argument for using `__slots__`. We save memory because we are not storing instance attributes in a hash table (`__dict__`), thus avoiding the additional overhead associated with using a hash table."
   ]
  },
  {
   "cell_type": "code",
   "execution_count": 32,
   "id": "4c68ec10",
   "metadata": {},
   "outputs": [
    {
     "name": "stdout",
     "output_type": "stream",
     "text": [
      "Collecting Pympler\n",
      "  Downloading Pympler-1.1-py3-none-any.whl.metadata (3.6 kB)\n",
      "Requirement already satisfied: pywin32>=226 in c:\\users\\nikhilsharma\\.conda\\envs\\llms2\\lib\\site-packages (from Pympler) (307)\n",
      "Downloading Pympler-1.1-py3-none-any.whl (165 kB)\n",
      "Installing collected packages: Pympler\n",
      "Successfully installed Pympler-1.1\n"
     ]
    }
   ],
   "source": [
    "!pip install Pympler"
   ]
  },
  {
   "cell_type": "code",
   "execution_count": 33,
   "id": "bf28f0e1",
   "metadata": {},
   "outputs": [],
   "source": [
    "from pympler import asizeof\n"
   ]
  },
  {
   "cell_type": "code",
   "execution_count": null,
   "id": "56c81a15",
   "metadata": {},
   "outputs": [
    {
     "name": "stdout",
     "output_type": "stream",
     "text": [
      "Point: 208776 bytes\n",
      "SlotPoint: 112664 bytes\n"
     ]
    }
   ],
   "source": [
    "# pympler -> Pympler is a Python development tool designed to measure, monitor, and analyze the memory behavior of Python objects within a running application. \n",
    "\n",
    "from pympler import asizeof\n",
    "\n",
    "class Point:\n",
    "    def __init__(self, x: float, y: float):\n",
    "        self.x = x\n",
    "        self.y = y\n",
    "        \n",
    "class SlotPoint:\n",
    "    __slots__ = ('x', 'y')\n",
    "\n",
    "    def __init__(self, x: float, y: float):\n",
    "        self.x = x\n",
    "        self.y = y\n",
    "\n",
    "        \n",
    "p = [Point(n, n+1) for n in range(1000)]\n",
    "\n",
    "print(f'Point: {asizeof.asizeof(p)} bytes')  # Point: 216768 bytes\n",
    "\n",
    "p = [SlotPoint(n, n+1) for n in range(1000)]\n",
    "print(f'SlotPoint: {asizeof.asizeof(p)} bytes')  # SlotPoint: 112656 bytes\n",
    "\n",
    "# Task: provide the % savings in memory"
   ]
  },
  {
   "cell_type": "code",
   "execution_count": 39,
   "id": "71fcf222",
   "metadata": {},
   "outputs": [],
   "source": [
    "emps = [Employee('Emp'+str(i), i+100) for i in range(1,5)]"
   ]
  },
  {
   "cell_type": "code",
   "execution_count": 40,
   "id": "defea7fe",
   "metadata": {},
   "outputs": [
    {
     "name": "stdout",
     "output_type": "stream",
     "text": [
      "Emp1 101\n",
      "Emp2 102\n",
      "Emp3 103\n",
      "Emp4 104\n"
     ]
    }
   ],
   "source": [
    "for emp in emps:\n",
    "    print(emp.name, emp.salary)"
   ]
  },
  {
   "cell_type": "code",
   "execution_count": null,
   "id": "f30a24c0",
   "metadata": {},
   "outputs": [],
   "source": []
  },
  {
   "cell_type": "code",
   "execution_count": null,
   "id": "1021e604",
   "metadata": {},
   "outputs": [],
   "source": []
  },
  {
   "cell_type": "markdown",
   "id": "6ad22bb7",
   "metadata": {},
   "source": [
    "In our example, the memory savings were almost twofold. However, the savings will not be as significant if the object has more attributes or if their types are complex. The savings might only amount to a few percent."
   ]
  },
  {
   "cell_type": "markdown",
   "id": "da95384d",
   "metadata": {},
   "source": [
    "\n",
    "### III. More secure access to instance attributes\n",
    "\n",
    "`__dict__` allows us to define new attributes on the fly and use them. `__slots__` restricts us to what is listed in it:"
   ]
  },
  {
   "cell_type": "code",
   "execution_count": null,
   "id": "8dd95bd4",
   "metadata": {},
   "outputs": [
    {
     "name": "stdout",
     "output_type": "stream",
     "text": [
      "Learning Python\n"
     ]
    }
   ],
   "source": [
    "class Book:\n",
    "    pass\n",
    "\n",
    "class SlotBook:\n",
    "    __slots__ = ()\n",
    "\n",
    "book = Book()\n",
    "book.title = 'Learning Python'  # no error, a new attribute is created\n",
    "print(book.title)  # Learning Python\n",
    "\n",
    "book = SlotBook()\n",
    "# This will raise AttributeError: 'SlotBook' object has no attribute 'title'\n",
    "book.title = 'Learning Python'"
   ]
  },
  {
   "cell_type": "markdown",
   "id": "4e136e4d",
   "metadata": {},
   "source": [
    "Whether to use `__slots__` or not depends on the specific case. It might be beneficial in some cases and problematic in others, especially in more complex scenarios, like when inheriting from a class that has defined `__slots__`. In this case, the interpreter ignores the inherited `__slots__` attribute, and `__dict__` reappears in the subclass:"
   ]
  },
  {
   "cell_type": "code",
   "execution_count": 45,
   "id": "0588eb1d",
   "metadata": {},
   "outputs": [
    {
     "name": "stdout",
     "output_type": "stream",
     "text": [
      "Learning Python\n"
     ]
    }
   ],
   "source": [
    "class SlotBook:\n",
    "    __slots__ = ()\n",
    "\n",
    "class Book(SlotBook):\n",
    "    pass\n",
    "\n",
    "book = Book()\n",
    "book.title = 'Learning Python'  # no error, a new attribute is created\n",
    "print(book.title)"
   ]
  },
  {
   "cell_type": "markdown",
   "id": "15c46d55",
   "metadata": {},
   "source": [
    "But don’t be afraid or forget about `__slots__`. Use it in simple cases where there is no inheritance, few attributes, and the attributes are simple types, like numbers, especially when the number of your instances is in the hundreds of thousands or millions. At the very least, you’ll get a noticeable memory saving."
   ]
  },
  {
   "cell_type": "markdown",
   "id": "d3fdda5b",
   "metadata": {},
   "source": [
    "Abstract Classes and Interfaces\n",
    "\n",
    "### Theory\n",
    "\n",
    "**Abstract Classes** are classes that cannot be instantiated and are meant to be subclassed. They define a common interface for their subclasses using abstract methods.\n",
    "\n",
    "**Abstract Methods** are methods declared in an abstract class but have no implementation. Subclasses must implement these methods.\n",
    "\n",
    "**Key Concepts:**\n",
    "\n",
    "- Use `abc` module (Abstract Base Classes)\n",
    "- `ABC` class as base\n",
    "- `@abstractmethod` decorator\n",
    "- Enforces interface contracts\n",
    "- Enables polymorphism\n",
    "\n",
    "**Benefits:**\n",
    "\n",
    "- Ensures subclasses implement required methods\n",
    "- Provides clear interface definitions\n",
    "- Catches errors at instantiation time\n",
    "- Documents expected behavior\n"
   ]
  },
  {
   "cell_type": "code",
   "execution_count": null,
   "id": "1a459d1a",
   "metadata": {},
   "outputs": [],
   "source": [
    "from abc import ABC, abstractmethod\n",
    "\n",
    "class Shape(ABC):\n",
    "    \"\"\"Abstract base class for shapes\"\"\"\n",
    "    def __init__(self, color):\n",
    "        self.color = color\n",
    "    @abstractmethod\n",
    "    def area(self):\n",
    "        pass\n",
    "\n",
    "    @abstractmethod\n",
    "    def perimeter(self):\n",
    "        \"\"\"Calculate perimeter - must be implemented by subclasses\"\"\"\n",
    "        pass\n",
    "   \n",
    "    # Concrete method (has implementation)\n",
    "    def describe(self):\n",
    "        return f\"A {self.color} {self.__class__.__name__} with area {self.area():.2f}\"\n",
    "\n",
    "\n",
    "class Circle(Shape):\n",
    "    def __init__(self, color, radius):\n",
    "        super().__init__(color)\n",
    "        self.radius = radius\n",
    "\n",
    "    def area(self):\n",
    "        return 3.14159 * self.radius ** 2\n",
    "    \n",
    "    def perimeter(self):\n",
    "        return 2 * 3.14159 * self.radius    \n"
   ]
  },
  {
   "cell_type": "code",
   "execution_count": 53,
   "id": "b1cf91be",
   "metadata": {},
   "outputs": [],
   "source": [
    "c1 = Circle('blue', 7)"
   ]
  },
  {
   "cell_type": "code",
   "execution_count": 54,
   "id": "97e508c2",
   "metadata": {},
   "outputs": [],
   "source": [
    "class Rectangle(Shape):\n",
    "    def __init__(self, color, width, height):\n",
    "        super().__init__(color)\n",
    "        self.width = width\n",
    "        self.height = height\n",
    "    \n",
    "    def area(self):\n",
    "        return self.width * self.height\n",
    "    \n",
    "    def perimeter(self):\n",
    "        return 2 * (self.width + self.height)"
   ]
  },
  {
   "cell_type": "markdown",
   "id": "9586d103",
   "metadata": {},
   "source": []
  },
  {
   "cell_type": "code",
   "execution_count": null,
   "id": "2f293c3b",
   "metadata": {},
   "outputs": [
    {
     "name": "stdout",
     "output_type": "stream",
     "text": [
      "A red Circle with area 78.54\n",
      "A blue Rectangle with area 24.00\n",
      "Circle perimeter: 31.42\n",
      "Rectangle perimeter: 20.00\n"
     ]
    }
   ],
   "source": [
    "# Using concrete implementations\n",
    "circle = Circle(\"red\", 5)\n",
    "rectangle = Rectangle(\"blue\", 4, 6)\n",
    "\n",
    "print(circle.describe())\n",
    "print(rectangle.describe())\n",
    "\n",
    "print(f\"Circle perimeter: {circle.perimeter():.2f}\")\n",
    "print(f\"Rectangle perimeter: {rectangle.perimeter():.2f}\")"
   ]
  },
  {
   "cell_type": "code",
   "execution_count": null,
   "id": "b2185238",
   "metadata": {},
   "outputs": [],
   "source": []
  }
 ],
 "metadata": {
  "kernelspec": {
   "display_name": "Python 3",
   "language": "python",
   "name": "python3"
  },
  "language_info": {
   "codemirror_mode": {
    "name": "ipython",
    "version": 3
   },
   "file_extension": ".py",
   "mimetype": "text/x-python",
   "name": "python",
   "nbconvert_exporter": "python",
   "pygments_lexer": "ipython3",
   "version": "3.11.11"
  }
 },
 "nbformat": 4,
 "nbformat_minor": 5
}
