{
 "cells": [
  {
   "cell_type": "code",
   "execution_count": null,
   "id": "e9c9c165",
   "metadata": {},
   "outputs": [],
   "source": []
  },
  {
   "cell_type": "code",
   "execution_count": 8,
   "id": "8545e023",
   "metadata": {},
   "outputs": [],
   "source": [
    "c = input()\n"
   ]
  },
  {
   "cell_type": "code",
   "execution_count": 9,
   "id": "76a31180",
   "metadata": {},
   "outputs": [
    {
     "data": {
      "text/plain": [
       "'{     \"students\": [         {\"name\": \"John\", \"grade\": 85},         {\"name\": \"Emma\", \"grade\": 92}     ],     \"class\": \"Python 101\" }'"
      ]
     },
     "execution_count": 9,
     "metadata": {},
     "output_type": "execute_result"
    }
   ],
   "source": [
    "c"
   ]
  },
  {
   "cell_type": "code",
   "execution_count": 2,
   "id": "ecb5e5de",
   "metadata": {},
   "outputs": [],
   "source": [
    "students = {\n",
    "    \"students\": [\n",
    "        {\"name\": \"John\", \"grade\": 85},\n",
    "        {\"name\": \"Emma\", \"grade\": 92}\n",
    "    ],\n",
    "    \"class\": \"Python 101\"\n",
    "}\n",
    "\n",
    "# TASK: Create a program which takes this dictionary at runtime and returns the name and grade of the second student. \n",
    "# Hint: we need to use JSON"
   ]
  },
  {
   "cell_type": "code",
   "execution_count": 3,
   "id": "9c36bdb0",
   "metadata": {},
   "outputs": [
    {
     "data": {
      "text/plain": [
       "{'students': [{'name': 'John', 'grade': 85}, {'name': 'Emma', 'grade': 92}],\n",
       " 'class': 'Python 101'}"
      ]
     },
     "execution_count": 3,
     "metadata": {},
     "output_type": "execute_result"
    }
   ],
   "source": [
    "students"
   ]
  },
  {
   "cell_type": "markdown",
   "id": "902bfaeb",
   "metadata": {},
   "source": [
    "## The conversion process\n",
    "\n",
    "When you work with JSON in Python, you use the built-in `json` module to bridge the gap between the two formats. \n",
    "\n",
    "- **Serialization:** Converting a Python object into a JSON-formatted string is called serialization. The `json.dumps()` method handles this by translating Python data types to their closest JSON equivalent. For example, a Python `dict` becomes a JSON `object`.\n",
    "- **Deserialization:** Converting a JSON-formatted string back into a Python object is called deserialization. The `json.loads()` method converts the JSON text into a Python object, typically a `dict` or `list`."
   ]
  },
  {
   "cell_type": "markdown",
   "id": "4ab3223e",
   "metadata": {},
   "source": [
    "### JSON Data Types\n",
    "\n",
    "```\n",
    "- Objects: {\"key\": \"value\"}\n",
    "- Arrays: [1, 2, 3]\n",
    "- Strings: \"hello\"\n",
    "- Numbers: 42, 3.14\n",
    "- Booleans: true, false\n",
    "- Null: null\n",
    "```\n"
   ]
  },
  {
   "cell_type": "markdown",
   "id": "4bc9100d",
   "metadata": {},
   "source": [
    "\n",
    "## 2. The JSON Module\n",
    "\n",
    "The `json` module in Python provides methods to work with JSON data.\n",
    "\n",
    "```python\n",
    "import json\n",
    "```\n",
    "\n",
    "### Python ↔ JSON Type Conversion\n",
    "\n",
    "|Python|JSON|\n",
    "|---|---|\n",
    "|dict|object|\n",
    "|list, tuple|array|\n",
    "|str|string|\n",
    "|int, float|number|\n",
    "|True|true|\n",
    "|False|false|\n",
    "|None|null|\n"
   ]
  },
  {
   "cell_type": "markdown",
   "id": "6834ba86",
   "metadata": {},
   "source": [
    "\n",
    "## 3. Core Functions: `load()` vs `loads()`\n",
    "\n",
    "### The Key Difference: **S = String**\n",
    "\n",
    "- **`load()`**: Reads JSON from a **file object**\n",
    "- **`loads()`**: Reads JSON from a **string** (the 's' stands for string)\n",
    "\n",
    "### `json.loads()` - Parse JSON String\n",
    "\n",
    "**Syntax**: `json.loads(json_string)`"
   ]
  },
  {
   "cell_type": "code",
   "execution_count": 4,
   "id": "27da4db6",
   "metadata": {},
   "outputs": [],
   "source": [
    "import json\n",
    "\n",
    "# JSON as a string\n",
    "json_string = '{\"name\": \"Alice\", \"age\": 30, \"city\": \"New York\"}'"
   ]
  },
  {
   "cell_type": "code",
   "execution_count": 6,
   "id": "17d753b7",
   "metadata": {},
   "outputs": [],
   "source": [
    "# Convert JSON string to Python dictionary\n",
    "data = json.loads(json_string)"
   ]
  },
  {
   "cell_type": "code",
   "execution_count": 10,
   "id": "6ec5b696",
   "metadata": {},
   "outputs": [],
   "source": [
    "with open('sample_json.json', 'w') as file:\n",
    "    file.write(json_string)"
   ]
  },
  {
   "cell_type": "code",
   "execution_count": 12,
   "metadata": {},
   "outputs": [
    {
     "name": "stdout",
     "output_type": "stream",
     "text": [
      "<class 'dict'>\n"
     ]
    }
   ],
   "source": [
    "with open('sample_json.json', 'r') as file:\n",
    "    data = json.load(file)\n",
    "print(type(data))"
   ]
  },
  {
   "cell_type": "code",
   "execution_count": 16,
   "id": "47bfac2c",
   "metadata": {},
   "outputs": [
    {
     "name": "stdout",
     "output_type": "stream",
     "text": [
      "{'name': 'Alice', 'age': 30, 'city': 'New York'}\n"
     ]
    }
   ],
   "source": [
    "with open('sample_json2.txt', 'r') as file:\n",
    "    data = json.load(file)\n",
    "print(data)"
   ]
  },
  {
   "cell_type": "code",
   "execution_count": null,
   "id": "bc81520a",
   "metadata": {},
   "outputs": [],
   "source": [
    "# config.json file:\n",
    "# {\n",
    "#     \"database\": {\n",
    "#         \"host\": \"localhost\",\n",
    "#         \"port\": 5432,\n",
    "#         \"username\": \"admin\"\n",
    "#     },\n",
    "#     \"debug\": true\n",
    "# }\n",
    "\n",
    "with open('config.json', 'r') as config_file:\n",
    "    config = json.load(config_file)\n",
    "\n",
    "db_host = config['database']['host']\n",
    "print(f\"Connecting to database at {db_host}\")  # localhost"
   ]
  },
  {
   "cell_type": "code",
   "execution_count": null,
   "id": "ab6db90f",
   "metadata": {},
   "outputs": [],
   "source": []
  },
  {
   "cell_type": "code",
   "execution_count": null,
   "id": "167bddf2",
   "metadata": {},
   "outputs": [],
   "source": []
  },
  {
   "cell_type": "code",
   "execution_count": null,
   "id": "a868ffd4",
   "metadata": {},
   "outputs": [
    {
     "data": {
      "text/plain": [
       "True"
      ]
     },
     "execution_count": 18,
     "metadata": {},
     "output_type": "execute_result"
    }
   ],
   "source": [
    "from dotenv import load_dotenv\n",
    "load_dotenv()"
   ]
  },
  {
   "cell_type": "code",
   "execution_count": null,
   "id": "e2316450",
   "metadata": {},
   "outputs": [
    {
     "name": "stdout",
     "output_type": "stream",
     "text": [
      "123456\n"
     ]
    }
   ],
   "source": [
    "import os\n",
    "DB_PASSWORD = os.getenv(\"DB_PASSWORD\")\n",
    "print(DB_PASSWORD)"
   ]
  },
  {
   "cell_type": "markdown",
   "id": "de25de22",
   "metadata": {},
   "source": [
    "**When to use `load()`:**\n",
    "\n",
    "- Reading configuration files\n",
    "- Loading saved application state\n",
    "- Processing JSON files from disk\n",
    "- Reading data exports\n"
   ]
  },
  {
   "cell_type": "code",
   "execution_count": null,
   "id": "87d97855",
   "metadata": {},
   "outputs": [],
   "source": []
  },
  {
   "cell_type": "markdown",
   "id": "f459973b",
   "metadata": {},
   "source": [
    "\n",
    "## 4. Core Functions: `dump()` vs `dumps()`\n",
    "\n",
    "### The Key Difference: **S = String**\n",
    "\n",
    "- **`dump()`**: Writes JSON to a **file object**\n",
    "- **`dumps()`**: Converts Python object to JSON **string** (the 's' stands for string)\n",
    "\n",
    "### `json.dumps()` - Convert to JSON String\n",
    "\n",
    "**Syntax**: `json.dumps(python_object, indent=None, sort_keys=False)`"
   ]
  },
  {
   "cell_type": "code",
   "execution_count": null,
   "id": "88cc8032",
   "metadata": {},
   "outputs": [
    {
     "name": "stdout",
     "output_type": "stream",
     "text": [
      "{\"name\": \"Bob\", \"age\": 25, \"skills\": [\"Python\", \"JavaScript\", \"SQL\"]}\n"
     ]
    }
   ],
   "source": [
    "import json\n",
    "\n",
    "# Python dictionary\n",
    "data = {\n",
    "    \"name\": \"Bob\",\n",
    "    \"age\": 25,\n",
    "    \"skills\": [\"Python\", \"JavaScript\", \"SQL\"]\n",
    "}\n",
    "\n",
    "s = json.dumps(data)\n",
    "print(s)\n",
    "\n"
   ]
  },
  {
   "cell_type": "code",
   "execution_count": 22,
   "id": "9a019853",
   "metadata": {},
   "outputs": [
    {
     "name": "stdout",
     "output_type": "stream",
     "text": [
      "{\"name\": \"Bob\", \"age\": 25, \"skills\": [\"Python\", \"JavaScript\", \"SQL\"]}\n"
     ]
    }
   ],
   "source": [
    "# Convert to JSON string\n",
    "json_string = json.dumps(data)\n",
    "print(json_string)"
   ]
  },
  {
   "cell_type": "code",
   "execution_count": 23,
   "id": "1576d3f4",
   "metadata": {},
   "outputs": [
    {
     "name": "stdout",
     "output_type": "stream",
     "text": [
      "{\n",
      "    \"company\": \"TechCorp\",\n",
      "    \"employees\": [\n",
      "        {\n",
      "            \"name\": \"Alice\",\n",
      "            \"role\": \"Developer\"\n",
      "        },\n",
      "        {\n",
      "            \"name\": \"Bob\",\n",
      "            \"role\": \"Designer\"\n",
      "        }\n",
      "    ]\n",
      "}\n"
     ]
    }
   ],
   "source": [
    "data = {\n",
    "    \"company\": \"TechCorp\",\n",
    "    \"employees\": [\n",
    "        {\"name\": \"Alice\", \"role\": \"Developer\"},\n",
    "        {\"name\": \"Bob\", \"role\": \"Designer\"}\n",
    "    ]\n",
    "}\n",
    "\n",
    "# Pretty print with indentation\n",
    "json_string = json.dumps(data, indent=4)\n",
    "print(json_string)"
   ]
  },
  {
   "cell_type": "code",
   "execution_count": 24,
   "id": "e522d32c",
   "metadata": {},
   "outputs": [
    {
     "name": "stdout",
     "output_type": "stream",
     "text": [
      "{\"apple\": 2, \"mango\": 3, \"zebra\": 1}\n"
     ]
    }
   ],
   "source": [
    "data = {\"zebra\": 1, \"apple\": 2, \"mango\": 3}\n",
    "\n",
    "json_string = json.dumps(data, sort_keys=True)\n",
    "print(json_string)\n",
    "# {\"apple\": 2, \"mango\": 3, \"zebra\": 1}\n",
    "\n",
    "# TASK: sort based upon values"
   ]
  },
  {
   "cell_type": "markdown",
   "id": "8238dd4b",
   "metadata": {},
   "source": [
    "**When to use `dumps()`:**\n",
    "\n",
    "- Sending JSON in API requests\n",
    "- Logging structured data\n",
    "- Storing JSON in databases as strings\n",
    "- Returning JSON from functions\n",
    "- Debugging (viewing Python objects as JSON)"
   ]
  },
  {
   "cell_type": "code",
   "execution_count": null,
   "id": "b7270683",
   "metadata": {},
   "outputs": [],
   "source": [
    "# OPEN_WEATHER_API"
   ]
  },
  {
   "cell_type": "markdown",
   "id": "4a201f4c",
   "metadata": {},
   "source": [
    "\n",
    "### `json.dump()` - Write JSON to File\n",
    "\n",
    "**Syntax**: `json.dump(python_object, file_object, indent=None)`"
   ]
  },
  {
   "cell_type": "code",
   "execution_count": 25,
   "id": "5142c3e0",
   "metadata": {},
   "outputs": [],
   "source": [
    "import json\n",
    "\n",
    "data = {\n",
    "    \"name\": \"Charlie\",\n",
    "    \"age\": 28,\n",
    "    \"city\": \"San Francisco\"\n",
    "}\n",
    "\n",
    "# Write JSON to file\n",
    "with open('output.json', 'w') as file:\n",
    "    json.dump(data, file)\n",
    "\n",
    "# File content: {\"name\": \"Charlie\", \"age\": 28, \"city\": \"San Francisco\"}"
   ]
  },
  {
   "cell_type": "markdown",
   "id": "9d3e7c26",
   "metadata": {},
   "source": [
    "**When to use `dump()`:**\n",
    "\n",
    "- Saving application state\n",
    "- Creating configuration files\n",
    "- Exporting data to files\n",
    "- Caching data locally\n",
    "- Creating data backups"
   ]
  },
  {
   "cell_type": "code",
   "execution_count": null,
   "id": "233a485f",
   "metadata": {},
   "outputs": [],
   "source": [
    "import logging\n",
    "age = 10\n",
    "if age> 18:\n",
    "    # saving \n",
    "    print('details have been saved')\n",
    "else:\n",
    "    pass"
   ]
  },
  {
   "cell_type": "code",
   "execution_count": null,
   "id": "7c154b7a",
   "metadata": {},
   "outputs": [
    {
     "name": "stdout",
     "output_type": "stream",
     "text": [
      "<Response [200]>\n"
     ]
    }
   ],
   "source": [
    "import requests\n",
    "res = requests.get('https://www.cnn.com')\n",
    "print(res.)"
   ]
  },
  {
   "cell_type": "code",
   "execution_count": null,
   "id": "3d90106f",
   "metadata": {},
   "outputs": [],
   "source": [
    "print(res.text)"
   ]
  },
  {
   "cell_type": "code",
   "execution_count": null,
   "id": "35a5a6a9",
   "metadata": {},
   "outputs": [],
   "source": [
    "# TASK: download the csv file with requests from github\n",
    "## Hint: "
   ]
  },
  {
   "cell_type": "code",
   "execution_count": 3,
   "id": "54411d08",
   "metadata": {},
   "outputs": [
    {
     "data": {
      "text/plain": [
       "65"
      ]
     },
     "execution_count": 3,
     "metadata": {},
     "output_type": "execute_result"
    }
   ],
   "source": [
    "d = {\n",
    "    \"status\": \"success\",\n",
    "    \"data\": {\n",
    "        \"temperature\": 22.5,\n",
    "        \"humidity\": 65,\n",
    "        \"location\": \"New York\"\n",
    "    }\n",
    "}\n",
    "d['data']['humidity']\n"
   ]
  },
  {
   "cell_type": "code",
   "execution_count": 4,
   "id": "3acbab07",
   "metadata": {},
   "outputs": [
    {
     "name": "stdout",
     "output_type": "stream",
     "text": [
      "Temperature in New York: 22.5°C\n"
     ]
    }
   ],
   "source": [
    "import json\n",
    "import urllib.request\n",
    "\n",
    "# Simulated API response as string\n",
    "api_response = '''\n",
    "{\n",
    "    \"status\": \"success\",\n",
    "    \"data\": {\n",
    "        \"temperature\": 22.5,\n",
    "        \"humidity\": 65,\n",
    "        \"location\": \"New York\"\n",
    "    }\n",
    "}\n",
    "'''\n",
    "\n",
    "# Parse the API response (use loads because it's a string)\n",
    "weather_data = json.loads(api_response)\n",
    "\n",
    "temp = weather_data['data']['temperature']\n",
    "location = weather_data['data']['location']\n",
    "\n",
    "print(f\"Temperature in {location}: {temp}°C\")"
   ]
  },
  {
   "cell_type": "code",
   "execution_count": 5,
   "id": "ff20f9f2",
   "metadata": {},
   "outputs": [],
   "source": [
    "import random"
   ]
  },
  {
   "cell_type": "code",
   "execution_count": 10,
   "id": "fd7845b5",
   "metadata": {},
   "outputs": [
    {
     "data": {
      "text/plain": [
       "0.4937079933313232"
      ]
     },
     "execution_count": 10,
     "metadata": {},
     "output_type": "execute_result"
    }
   ],
   "source": [
    "random.random()"
   ]
  },
  {
   "cell_type": "code",
   "execution_count": 15,
   "id": "c26295ef",
   "metadata": {},
   "outputs": [
    {
     "data": {
      "text/plain": [
       "81"
      ]
     },
     "execution_count": 15,
     "metadata": {},
     "output_type": "execute_result"
    }
   ],
   "source": [
    "random.randint(1,90)"
   ]
  },
  {
   "cell_type": "code",
   "execution_count": 18,
   "id": "656f75f6",
   "metadata": {},
   "outputs": [
    {
     "data": {
      "text/plain": [
       "['iphone15']"
      ]
     },
     "execution_count": 18,
     "metadata": {},
     "output_type": "execute_result"
    }
   ],
   "source": [
    "choices = ['iphone15', 'iphone16', 'iphone17']\n",
    "\n",
    "random.choices(choices)\n"
   ]
  },
  {
   "cell_type": "code",
   "execution_count": null,
   "id": "5dbccd8b",
   "metadata": {},
   "outputs": [],
   "source": []
  }
 ],
 "metadata": {
  "kernelspec": {
   "display_name": "Python 3",
   "language": "python",
   "name": "python3"
  },
  "language_info": {
   "codemirror_mode": {
    "name": "ipython",
    "version": 3
   },
   "file_extension": ".py",
   "mimetype": "text/x-python",
   "name": "python",
   "nbconvert_exporter": "python",
   "pygments_lexer": "ipython3",
   "version": "3.11.11"
  }
 },
 "nbformat": 4,
 "nbformat_minor": 5
}
