{
 "cells": [
  {
   "cell_type": "markdown",
   "id": "f86d698a",
   "metadata": {},
   "source": [
    "# Abstraction in Python\n",
    "\n",
    "## Introduction to Abstraction\n",
    "Abstraction is one of the core principles of Object-Oriented Programming (OOP). It involves hiding the complex implementation details of a system and exposing only the essential features or behaviors. This allows developers to focus on \"what\" an object does rather than \"how\" it does it.\n",
    "\n",
    "In Python, abstraction is achieved using **abstract classes** and **interfaces**. These constructs define a blueprint for other classes, specifying what methods must be implemented without providing their implementation details."
   ]
  },
  {
   "cell_type": "markdown",
   "id": "e4db3b9d",
   "metadata": {},
   "source": [
    "### Key Benefits of Abstraction\n",
    "1. **Simplification**: Reduces complexity by focusing on high-level functionality.\n",
    "2. **Reusability**: Encourages modular design, making code reusable across different parts of a system.\n",
    "3. **Maintainability**: Changes to the implementation details do not affect the abstract interface, ensuring stability.\n",
    "4. **Enforces Contracts**: Ensures that derived classes adhere to a specific structure.\n",
    "\n",
    "---"
   ]
  },
  {
   "cell_type": "markdown",
   "id": "db4cdb1c",
   "metadata": {},
   "source": [
    "## Abstract Classes in Python\n",
    "Python provides the `abc` module (Abstract Base Classes) to define abstract classes. An abstract class cannot be instantiated directly and requires subclasses to implement its abstract methods.\n",
    "\n",
    "### Key Features of Abstract Classes\n",
    "1. **Abstract Methods**: Methods declared in the abstract class but without implementation.\n",
    "2. **Concrete Methods**: Methods with implementation that can be inherited by subclasses.\n",
    "3. **Decorator `@abstractmethod`**: Marks methods as abstract.\n",
    "\n",
    "#### Syntax for Defining Abstract Classes"
   ]
  },
  {
   "cell_type": "code",
   "execution_count": null,
   "id": "60cfa577",
   "metadata": {},
   "outputs": [],
   "source": []
  },
  {
   "cell_type": "code",
   "execution_count": 1,
   "id": "bf6b843f",
   "metadata": {},
   "outputs": [],
   "source": [
    "from abc import ABC, abstractmethod\n",
    "\n",
    "class AbstractClass(ABC):\n",
    "    @abstractmethod\n",
    "    def abstract_method(self):\n",
    "        pass  # No implementation here\n",
    "\n",
    "    def concrete_method(self):\n",
    "        print(\"This is a concrete method\")"
   ]
  },
  {
   "cell_type": "markdown",
   "id": "785e6469",
   "metadata": {},
   "source": [
    "### Example 1: Payment Gateway System\n",
    "A payment gateway system can have multiple payment methods (e.g., Credit Card, PayPal). The abstract class defines the interface for all payment methods."
   ]
  },
  {
   "cell_type": "code",
   "execution_count": 2,
   "id": "0f94664b",
   "metadata": {},
   "outputs": [
    {
     "name": "stdout",
     "output_type": "stream",
     "text": [
      "Processing credit card payment of $100\n",
      "Processing PayPal payment of $50\n"
     ]
    }
   ],
   "source": [
    "from abc import ABC, abstractmethod\n",
    "\n",
    "class PaymentGateway(ABC):\n",
    "    @abstractmethod\n",
    "    def process_payment(self, amount):\n",
    "        pass  # Subclasses must implement this method\n",
    "\n",
    "class CreditCardPayment(PaymentGateway):\n",
    "    def process_payment(self, amount):\n",
    "        print(f\"Processing credit card payment of ${amount}\")\n",
    "\n",
    "class PayPalPayment(PaymentGateway):\n",
    "    def process_payment(self, amount):\n",
    "        print(f\"Processing PayPal payment of ${amount}\")\n",
    "\n",
    "# Usage\n",
    "credit_card = CreditCardPayment()\n",
    "credit_card.process_payment(100)\n",
    "\n",
    "paypal = PayPalPayment()\n",
    "paypal.process_payment(50)"
   ]
  },
  {
   "cell_type": "markdown",
   "id": "a33e191a",
   "metadata": {},
   "source": [
    "## Real-World Use Cases of Abstraction\n",
    "\n",
    "### 1. API Design\n",
    "Abstract classes are often used to define interfaces for APIs, ensuring consistent behavior across implementations.\n",
    "\n",
    "#### Example: Database Connector"
   ]
  },
  {
   "cell_type": "code",
   "execution_count": 3,
   "id": "b6301950",
   "metadata": {},
   "outputs": [
    {
     "name": "stdout",
     "output_type": "stream",
     "text": [
      "Connected to MySQL database\n",
      "Disconnected from MySQL database\n",
      "Connected to PostgreSQL database\n",
      "Disconnected from PostgreSQL database\n"
     ]
    }
   ],
   "source": [
    "from abc import ABC, abstractmethod\n",
    "\n",
    "class DatabaseConnector(ABC):\n",
    "    @abstractmethod\n",
    "    def connect(self):\n",
    "        pass\n",
    "\n",
    "    @abstractmethod\n",
    "    def disconnect(self):\n",
    "        pass\n",
    "\n",
    "class MySQLConnector(DatabaseConnector):\n",
    "    def connect(self):\n",
    "        print(\"Connected to MySQL database\")\n",
    "\n",
    "    def disconnect(self):\n",
    "        print(\"Disconnected from MySQL database\")\n",
    "\n",
    "class PostgreSQLConnector(DatabaseConnector):\n",
    "    def connect(self):\n",
    "        print(\"Connected to PostgreSQL database\")\n",
    "\n",
    "    def disconnect(self):\n",
    "        print(\"Disconnected from PostgreSQL database\")\n",
    "\n",
    "# Usage\n",
    "mysql = MySQLConnector()\n",
    "mysql.connect()\n",
    "mysql.disconnect()\n",
    "\n",
    "postgres = PostgreSQLConnector()\n",
    "postgres.connect()\n",
    "postgres.disconnect()"
   ]
  },
  {
   "cell_type": "code",
   "execution_count": null,
   "id": "259b26b8",
   "metadata": {},
   "outputs": [],
   "source": []
  }
 ],
 "metadata": {
  "kernelspec": {
   "display_name": "Python 3",
   "language": "python",
   "name": "python3"
  },
  "language_info": {
   "codemirror_mode": {
    "name": "ipython",
    "version": 3
   },
   "file_extension": ".py",
   "mimetype": "text/x-python",
   "name": "python",
   "nbconvert_exporter": "python",
   "pygments_lexer": "ipython3",
   "version": "3.11.11"
  }
 },
 "nbformat": 4,
 "nbformat_minor": 5
}
