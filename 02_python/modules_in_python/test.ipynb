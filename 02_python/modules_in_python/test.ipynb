{
 "cells": [
  {
   "cell_type": "code",
   "execution_count": 1,
   "id": "e95b9d68",
   "metadata": {},
   "outputs": [
    {
     "data": {
      "text/plain": [
       "2"
      ]
     },
     "execution_count": 1,
     "metadata": {},
     "output_type": "execute_result"
    }
   ],
   "source": [
    "1 + 1"
   ]
  },
  {
   "cell_type": "markdown",
   "id": "b7f09ac7",
   "metadata": {},
   "source": [
    "### Module Search Path\n",
    "\n",
    "When you import a module, Python searches for it in the following locations (in order):\n",
    "\n",
    "1. The directory containing the current script\n",
    "2. The directories in the PYTHONPATH environment variable\n",
    "3. The standard library directories\n",
    "4. The directory of site-packages installed by pip\n"
   ]
  },
  {
   "cell_type": "code",
   "execution_count": null,
   "id": "b7852a39",
   "metadata": {},
   "outputs": [],
   "source": []
  },
  {
   "cell_type": "code",
   "execution_count": 27,
   "id": "b94bf27b",
   "metadata": {},
   "outputs": [
    {
     "data": {
      "text/plain": [
       "'This module provides access to the mathematical functions\\ndefined by the C standard.'"
      ]
     },
     "execution_count": 27,
     "metadata": {},
     "output_type": "execute_result"
    }
   ],
   "source": [
    "import math\n",
    "math.__doc__"
   ]
  },
  {
   "cell_type": "code",
   "execution_count": 20,
   "id": "5adfe193",
   "metadata": {},
   "outputs": [
    {
     "data": {
      "text/plain": [
       "<module 'basic_maths' from 'c:\\\\dev01\\\\04_python_api_dev\\\\basic_maths.py'>"
      ]
     },
     "execution_count": 20,
     "metadata": {},
     "output_type": "execute_result"
    }
   ],
   "source": [
    "\n",
    "import basic_maths\n",
    "import importlib\n",
    "importlib.reload(basic_maths)\n"
   ]
  },
  {
   "cell_type": "code",
   "execution_count": null,
   "id": "fae4deee",
   "metadata": {},
   "outputs": [
    {
     "data": {
      "text/plain": [
       "44.0"
      ]
     },
     "execution_count": 15,
     "metadata": {},
     "output_type": "execute_result"
    }
   ],
   "source": [
    "\n",
    "division(88,2)\n"
   ]
  },
  {
   "cell_type": "code",
   "execution_count": 21,
   "id": "5867c1ea",
   "metadata": {},
   "outputs": [
    {
     "data": {
      "text/plain": [
       "64"
      ]
     },
     "execution_count": 21,
     "metadata": {},
     "output_type": "execute_result"
    }
   ],
   "source": [
    "basic_maths.square(8)"
   ]
  },
  {
   "cell_type": "code",
   "execution_count": 5,
   "id": "7e0a7f19",
   "metadata": {},
   "outputs": [
    {
     "data": {
      "text/plain": [
       "10"
      ]
     },
     "execution_count": 5,
     "metadata": {},
     "output_type": "execute_result"
    }
   ],
   "source": [
    "maths.add(1,9)"
   ]
  },
  {
   "cell_type": "code",
   "execution_count": 34,
   "id": "abae124b",
   "metadata": {},
   "outputs": [
    {
     "name": "stdout",
     "output_type": "stream",
     "text": [
      "Iteration 0\n",
      "Iteration 1\n",
      "Iteration 2\n",
      "Iteration 3\n"
     ]
    }
   ],
   "source": [
    "# Example 1: Simple for-else\n",
    "for i in range(5):\n",
    "    print(f\"Iteration {i}\")\n",
    "    if i==3:\n",
    "        break\n",
    "else:\n",
    "    print(\"Loop completed successfully!\")\n",
    "\n",
    "# Output:\n",
    "# Iteration 0\n",
    "# Iteration 1\n",
    "# Iteration 2\n",
    "# Iteration 3\n",
    "# Iteration 4\n",
    "# Loop completed successfully!"
   ]
  },
  {
   "cell_type": "code",
   "execution_count": 35,
   "id": "ee0e2b44",
   "metadata": {},
   "outputs": [
    {
     "name": "stdout",
     "output_type": "stream",
     "text": [
      "2 is a prime number\n",
      "3 is a prime number\n",
      "4 equals 2 * 2\n",
      "5 is a prime number\n",
      "6 equals 2 * 3\n",
      "7 is a prime number\n",
      "8 equals 2 * 4\n",
      "9 equals 3 * 3\n"
     ]
    }
   ],
   "source": [
    "for n in range(2, 10):\n",
    "    for x in range(2, n//2 + 1):\n",
    "        if n % x == 0:\n",
    "            print(n, 'equals', x, '*', n//x)\n",
    "            break\n",
    "    else:\n",
    "        # loop fell through without finding a factor\n",
    "        print(n, 'is a prime number')"
   ]
  }
 ],
 "metadata": {
  "kernelspec": {
   "display_name": "Python 3",
   "language": "python",
   "name": "python3"
  },
  "language_info": {
   "codemirror_mode": {
    "name": "ipython",
    "version": 3
   },
   "file_extension": ".py",
   "mimetype": "text/x-python",
   "name": "python",
   "nbconvert_exporter": "python",
   "pygments_lexer": "ipython3",
   "version": "3.11.11"
  }
 },
 "nbformat": 4,
 "nbformat_minor": 5
}
